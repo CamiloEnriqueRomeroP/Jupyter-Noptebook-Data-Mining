{
  "cells": [
    {
      "cell_type": "markdown",
      "id": "4bcee529",
      "metadata": {
        "colab_type": "text",
        "id": "view-in-github"
      },
      "source": [
        "<a href=\"https://colab.research.google.com/github/CamiloEnriqueRomeroP/Jupyter-Noptebook-Data-Mining/blob/main/Introduction-to-python/Introduction-to-python.ipynb\" target=\"_parent\"><img src=\"https://colab.research.google.com/assets/colab-badge.svg\" alt=\"Open In Colab\"/></a>"
      ]
    },
    {
      "cell_type": "markdown",
      "id": "781b8c79",
      "metadata": {
        "id": "781b8c79"
      },
      "source": [
        "# Introducción práctica a Python"
      ]
    },
    {
      "cell_type": "markdown",
      "id": "6fef0996",
      "metadata": {
        "id": "6fef0996"
      },
      "source": [
        "Python es un lenguaje de programación de alto nivel, interpretado y de propósito general, conocido por su sintaxis clara y sencilla que facilita la lectura y escritura del código. Fue creado por Guido van Rossum y es ampliamente utilizado en diversos campos como desarrollo web, análisis de datos, inteligencia artificial, automatización, y más. Su diseño enfatiza la legibilidad del código y permite a los programadores expresar conceptos en menos líneas que otros lenguajes como Java o C++. Además, cuenta con una gran comunidad y una vasta colección de bibliotecas que extienden su funcionalidad."
      ]
    },
    {
      "cell_type": "markdown",
      "id": "adbe459d",
      "metadata": {
        "id": "adbe459d"
      },
      "source": [
        "## Tipos de datos en Python\n",
        "\n",
        "En Python, los tipos de datos más comunes son:"
      ]
    },
    {
      "cell_type": "markdown",
      "id": "6e69bf59",
      "metadata": {
        "id": "6e69bf59"
      },
      "source": [
        "Enteros (int): números sin decimales (ej. 5)"
      ]
    },
    {
      "cell_type": "code",
      "execution_count": null,
      "id": "a7cff72d",
      "metadata": {
        "colab": {
          "base_uri": "https://localhost:8080/"
        },
        "id": "a7cff72d",
        "outputId": "1a8ba236-697c-4f0c-8a25-4cdf84928e29"
      },
      "outputs": [],
      "source": [
        "x = 5\n",
        "type(x)"
      ]
    },
    {
      "cell_type": "markdown",
      "id": "b58e3ae1",
      "metadata": {
        "id": "b58e3ae1"
      },
      "source": [
        "Flotantes (float): números con decimales (ej. 3.14)"
      ]
    },
    {
      "cell_type": "code",
      "execution_count": null,
      "id": "cf41f9c6",
      "metadata": {
        "colab": {
          "base_uri": "https://localhost:8080/"
        },
        "id": "cf41f9c6",
        "outputId": "e194936f-9420-4c1b-fbbd-81a7f6eb606f"
      },
      "outputs": [],
      "source": [
        "x = 3.14\n",
        "type(x)"
      ]
    },
    {
      "cell_type": "markdown",
      "id": "2dc60fed",
      "metadata": {
        "id": "2dc60fed"
      },
      "source": [
        "Cadenas (str): texto (ej. \"Hola\")"
      ]
    },
    {
      "cell_type": "code",
      "execution_count": null,
      "id": "42ea9652",
      "metadata": {
        "colab": {
          "base_uri": "https://localhost:8080/"
        },
        "id": "42ea9652",
        "outputId": "aac0a13f-ca8f-4ca6-c3c1-540e809bbf26"
      },
      "outputs": [],
      "source": [
        "x = 'Hola'\n",
        "type(x)"
      ]
    },
    {
      "cell_type": "markdown",
      "id": "b4fcbf4a",
      "metadata": {
        "id": "b4fcbf4a"
      },
      "source": [
        "Booleanos (bool): valores True o False"
      ]
    },
    {
      "cell_type": "code",
      "execution_count": null,
      "id": "1070c4b7",
      "metadata": {
        "id": "1070c4b7",
        "outputId": "38c9548b-c5d5-4f85-aaef-127d873c2b02"
      },
      "outputs": [],
      "source": [
        "x = True\n",
        "type(x)"
      ]
    },
    {
      "cell_type": "markdown",
      "id": "615ac2ec",
      "metadata": {
        "id": "615ac2ec"
      },
      "source": [
        "Conjuntos (set): colecciones sin orden ni elementos repetidos (ej. {1, 2, 3})"
      ]
    },
    {
      "cell_type": "code",
      "execution_count": null,
      "id": "aeb2dec7",
      "metadata": {
        "id": "aeb2dec7",
        "outputId": "abc8fbd1-9b7f-4672-c665-9b566e25586b"
      },
      "outputs": [],
      "source": [
        "x = {1,2,3}\n",
        "type(x)"
      ]
    },
    {
      "cell_type": "markdown",
      "id": "8d40a7c1",
      "metadata": {
        "id": "8d40a7c1"
      },
      "source": [
        "### Tuplas"
      ]
    },
    {
      "cell_type": "markdown",
      "id": "e07d67bb",
      "metadata": {
        "id": "e07d67bb"
      },
      "source": [
        "Las tuplas son una estructura de datos inmutable (no se pueden alterar)."
      ]
    },
    {
      "cell_type": "code",
      "execution_count": null,
      "id": "7dd208d2",
      "metadata": {
        "id": "7dd208d2",
        "outputId": "d23361ea-863d-42b8-ab3a-1e3383719aac"
      },
      "outputs": [],
      "source": [
        "x = (1, 'a', 2, 'b')\n",
        "type(x)"
      ]
    },
    {
      "cell_type": "markdown",
      "id": "5000ae0a",
      "metadata": {
        "id": "5000ae0a"
      },
      "source": [
        "### Listas"
      ]
    },
    {
      "cell_type": "markdown",
      "id": "30ddd737",
      "metadata": {
        "id": "30ddd737"
      },
      "source": [
        "Las listas son una estructura de datos mutable."
      ]
    },
    {
      "cell_type": "code",
      "execution_count": null,
      "id": "58ccd180",
      "metadata": {
        "id": "58ccd180",
        "outputId": "57345192-a182-4ee7-bd2f-b5a628dd3229"
      },
      "outputs": [],
      "source": [
        "x = [1, 'a', 2, 'b']\n",
        "type(x)"
      ]
    },
    {
      "cell_type": "markdown",
      "id": "153fa46e",
      "metadata": {
        "id": "153fa46e"
      },
      "source": [
        "### Diccionarios"
      ]
    },
    {
      "cell_type": "markdown",
      "id": "bf995cec",
      "metadata": {
        "id": "bf995cec"
      },
      "source": [
        "Los diccionarios son similares a las listas y tuplas ya que contienen una colección de elementos, pero son colecciones etiquetadas que no tienen un orden. Esto significa que por cada valor que insertas en el diccionario, también debes dar una clave para sacar ese valor. En otros lenguajes la estructura suele llamarse mapa. Y en Python usamos llaves para denotar un diccionario. He aquí un ejemplo en el que podríamos relacionar nombres con direcciones de correo electrónico. Puede ver que indicamos cada elemento del diccionario al crearlo usando un par de valores separados por dos puntos. Luego puede recuperar un valor para una etiqueta dada utilizando el operador de indexación."
      ]
    },
    {
      "cell_type": "code",
      "execution_count": null,
      "id": "e5cf2403",
      "metadata": {
        "id": "e5cf2403",
        "outputId": "68aa8be3-bb2b-4aea-8d93-4d34369140c9"
      },
      "outputs": [],
      "source": [
        "x = {'Camilo Romero': 'ceromero@unicauca.edu.co', 'Carlos Cobos': 'ccobos@unicauca.edu.co'}\n",
        "x['Camilo Romero']  # Recuperar un valor utilizando el operador de indexación"
      ]
    },
    {
      "cell_type": "markdown",
      "id": "66a81b7d",
      "metadata": {
        "id": "66a81b7d"
      },
      "source": [
        "Podemos iterar sobre todas las llaves:"
      ]
    },
    {
      "cell_type": "code",
      "execution_count": null,
      "id": "7f58b754",
      "metadata": {
        "id": "7f58b754",
        "outputId": "0831f83f-3b09-4c28-b0b8-c55979ddeb17"
      },
      "outputs": [],
      "source": [
        "for name in x:\n",
        "    print(x[name])"
      ]
    },
    {
      "cell_type": "markdown",
      "id": "37461db6",
      "metadata": {
        "id": "37461db6"
      },
      "source": [
        "Y tambien sobre los valores:"
      ]
    },
    {
      "cell_type": "code",
      "execution_count": null,
      "id": "7c5f39d0",
      "metadata": {
        "id": "7c5f39d0",
        "outputId": "d53bd9f0-341d-4f54-e69f-c5b3da5bc469"
      },
      "outputs": [],
      "source": [
        "for email in x.values():\n",
        "    print(email)"
      ]
    },
    {
      "cell_type": "markdown",
      "id": "b0317823",
      "metadata": {
        "id": "b0317823"
      },
      "source": [
        "O sobre cada item del diccionario:"
      ]
    },
    {
      "cell_type": "code",
      "execution_count": null,
      "id": "a83c7581",
      "metadata": {
        "id": "a83c7581",
        "outputId": "b064050b-70a8-4935-949f-ef36e850a82a"
      },
      "outputs": [],
      "source": [
        "for name, email in x.items():\n",
        "    print(\"Nombre:\",name,\", Correo:\",email)"
      ]
    },
    {
      "cell_type": "markdown",
      "id": "6e9e4aed",
      "metadata": {
        "id": "6e9e4aed"
      },
      "source": [
        "## Numpy"
      ]
    },
    {
      "cell_type": "markdown",
      "id": "4bd11de5",
      "metadata": {
        "id": "4bd11de5"
      },
      "source": [
        "Numpy es el paquete fundamental para la computación numérica con Python. Proporciona potentes formas de crear, almacenar y / o manipular datos, lo que hace que sea capaz de integrarse sin problemas y rápidamente con una amplia variedad de bases de datos. También es la base sobre la que se construye Pandas."
      ]
    },
    {
      "cell_type": "code",
      "execution_count": null,
      "id": "db1bd8cf",
      "metadata": {
        "id": "db1bd8cf"
      },
      "outputs": [],
      "source": [
        "import numpy as np\n",
        "import math"
      ]
    },
    {
      "cell_type": "code",
      "execution_count": null,
      "id": "379864a9",
      "metadata": {
        "id": "379864a9",
        "outputId": "7ae62dd1-ba60-4526-c2bc-8f3e8025b3c8"
      },
      "outputs": [],
      "source": [
        "# Los arrays (arreglos) se muestran como una lista o lista de listas y pueden crearse también a través de listas.\n",
        "# Al crear un array, pasamos una lista como argumento en numpy array\n",
        "a = np.array([1, 2, 3])\n",
        "print(a)\n",
        "print(a.ndim) # Mostramos el número de dimensiones"
      ]
    },
    {
      "cell_type": "code",
      "execution_count": null,
      "id": "8ad9f052",
      "metadata": {
        "id": "8ad9f052",
        "outputId": "91251bd4-0bc1-492d-c3bc-29a31038e75c"
      },
      "outputs": [],
      "source": [
        "# Si pasamos una lista de listas en numpy array, creamos un array multidimensional (matriz).\n",
        "b = np.array([[1,2,3],[4,5,6]])\n",
        "b"
      ]
    },
    {
      "cell_type": "code",
      "execution_count": null,
      "id": "3c698054",
      "metadata": {
        "id": "3c698054",
        "outputId": "307727b4-8a1d-4283-9e33-af410d89ec93"
      },
      "outputs": [],
      "source": [
        "b.shape #  Podemos imprimir la longitud de cada dimensión llamando al atributo shape, que devuelve una tupla"
      ]
    },
    {
      "cell_type": "code",
      "execution_count": null,
      "id": "3f38f5f9",
      "metadata": {
        "id": "3f38f5f9",
        "outputId": "ce2928a2-7982-4418-e370-1314b65c6a87"
      },
      "outputs": [],
      "source": [
        "c = np.array([2.2, 5, 1.1])\n",
        "c.dtype.name # Consultamos los tipos de datos dentro del arreglo"
      ]
    },
    {
      "cell_type": "markdown",
      "id": "b574d113",
      "metadata": {
        "id": "b574d113"
      },
      "source": [
        "Numpy convierte automáticamente enteros, como 5, a floats, ya que no hay pérdida de prescisión.\n",
        "Numpy intentará dar el mejor formato de tipo de datos posible para mantener los tipos de datos homogéneos, es decir, todos iguales, en el array"
      ]
    },
    {
      "cell_type": "code",
      "execution_count": null,
      "id": "ad3a7ffa",
      "metadata": {
        "id": "ad3a7ffa",
        "outputId": "cf576be5-b4c4-4ba7-e687-ff7d747b5fa6"
      },
      "outputs": [],
      "source": [
        "d = np.zeros((2,3)) # Podemos crear matrices llenas con ceros\n",
        "print(d)\n",
        "\n",
        "e = np.ones((2,3)) # O llenas con unos\n",
        "print(e)\n",
        "\n",
        "f = np.random.rand(2,3) # O con números aleatorios\n",
        "print(f)"
      ]
    },
    {
      "cell_type": "code",
      "execution_count": null,
      "id": "79475999",
      "metadata": {
        "id": "79475999",
        "outputId": "6c103667-479f-4790-9822-f707d2f6551b"
      },
      "outputs": [],
      "source": [
        "# También podemos crear una secuencia de números en una matriz con la función arrange().\n",
        "# El primer argumento es el límite inicial, el segundo argumento es el límite final\n",
        "# y el tercer argumento es la diferencia entre cada número consecutivo.\n",
        "# Vamos a crear una matriz con todos los números pares desde el diez hasta el cincuenta\n",
        "f = np.arange(10, 50, 2)\n",
        "f"
      ]
    },
    {
      "cell_type": "markdown",
      "id": "ef39fe37",
      "metadata": {
        "id": "ef39fe37"
      },
      "source": [
        "Podemos hacer muchas cosas en arrays, como manipulación matemática (suma, resta, cuadrado, exponentes), así como usar matrices booleanas, que son valores binarios. También podemos hacer manipulación de matrices como producto, transposición, inversa, etc."
      ]
    },
    {
      "cell_type": "code",
      "execution_count": null,
      "id": "cdb6ea0d",
      "metadata": {
        "id": "cdb6ea0d",
        "outputId": "e9da1e7a-feab-4f33-c794-9d08bfab7e56"
      },
      "outputs": [],
      "source": [
        "array1 = np.array([[1, 2, 3], [4, 5, 6]]) # Arreglo enteros\n",
        "array2 = np.array([[7.1, 8.2, 9.1], [10.4, 11.2, 12.3]]) # Arreglo floats\n",
        "\n",
        "array3=array1+array2 # Suma de arreglos\n",
        "print(array3)\n",
        "print(array3.dtype)\n",
        "\n",
        "print(\"Suma:\",array3.sum())\n",
        "print(\"Maximo:\",array3.max())\n",
        "print(\"Minimo:\",array3.min())\n",
        "print(\"Media:\",array3.mean())"
      ]
    },
    {
      "cell_type": "markdown",
      "id": "e5eb7085",
      "metadata": {
        "id": "e5eb7085"
      },
      "source": [
        "## Lectura y escritura de archivos CSV"
      ]
    },
    {
      "cell_type": "code",
      "execution_count": null,
      "id": "d9af8bf2",
      "metadata": {
        "id": "d9af8bf2",
        "outputId": "966a9e26-88ec-41be-dc5e-aea4a374a827"
      },
      "outputs": [],
      "source": [
        "import csv\n",
        "\n",
        "with open('churn.csv') as csvfile:\n",
        "    churn = list(csv.DictReader(csvfile))\n",
        "\n",
        "churn[:3]  # Consultamos los tres primeros registros de la lista de diccionario"
      ]
    },
    {
      "cell_type": "code",
      "execution_count": null,
      "id": "d6d28ba5",
      "metadata": {
        "id": "d6d28ba5",
        "outputId": "6c88ee3f-0f5f-4540-b25b-1cd3f5939d2e"
      },
      "outputs": [],
      "source": [
        "len(churn) # Consultamos el numero de registros de nuestros diccionarios"
      ]
    },
    {
      "cell_type": "code",
      "execution_count": null,
      "id": "3c9f6751",
      "metadata": {
        "id": "3c9f6751",
        "outputId": "af7d2123-755b-4f77-a076-38be25fad86d"
      },
      "outputs": [],
      "source": [
        "churn[0].keys() # Consultamos las llaves de los diccionarios"
      ]
    },
    {
      "cell_type": "code",
      "execution_count": null,
      "id": "5da673ec",
      "metadata": {
        "id": "5da673ec",
        "outputId": "c8a440c0-17a7-46a9-f8b5-afc6917caef6"
      },
      "outputs": [],
      "source": [
        "churn = np.genfromtxt(\"churn.csv\", delimiter=\";\", skip_header=1,\n",
        "                                   names=(\"No of Vmail Mesgs\", \"Total Day Min\", \"Total Day calls\", \"Total Day Charge\",\n",
        "                                          \"Total Evening Min\", \"Total Evening Calls\", \"Total Evening Charge\",\n",
        "                                          \"Total Night Minutes\", \"Total Night Calls\", \"Total Night Charge\",\n",
        "                                          \"Total Int Min\", \"Total Int Calls\", \"Total Int Charge\", \"No of Calls Customer Service\"))\n",
        "churn"
      ]
    },
    {
      "cell_type": "markdown",
      "id": "d465e86b",
      "metadata": {
        "id": "d465e86b"
      },
      "source": [
        "## Series y DataFrames"
      ]
    },
    {
      "cell_type": "markdown",
      "id": "50d43d1e",
      "metadata": {
        "id": "50d43d1e"
      },
      "source": [
        "La serie es una de las estructuras de datos principales de pandas. Es un cruce entre una lista y un diccionario. Todos los elementos se almacenan en un orden y hay etiquetas para consultarlos. Una forma fácil de visualizar esto son dos columnas de datos. La primera es el índice especial (index), muy parecido a las claves de un diccionario, mientras que la segunda son los datos reales. Es importante tener en cuenta que la columna de datos tiene una etiqueta propia y se puede recuperar utilizando el atributo. Esto es diferente que con los diccionarios y es útil cuando se trata de combinar varias columnas de datos."
      ]
    },
    {
      "cell_type": "code",
      "execution_count": null,
      "id": "6ef30b76",
      "metadata": {
        "id": "6ef30b76",
        "outputId": "71793521-d9dd-4387-8001-4e3f0dd26c14"
      },
      "outputs": [],
      "source": [
        "import pandas as pd\n",
        "\n",
        "students_scores = {'Alice': 'Physics',\n",
        "                   'Jack': 'Chemistry',\n",
        "                   'Molly': 'English'}\n",
        "\n",
        "s = pd.Series(students_scores, index=['Alice', 'Molly', 'Sam'])\n",
        "s"
      ]
    },
    {
      "cell_type": "markdown",
      "id": "a373ea30",
      "metadata": {
        "id": "a373ea30"
      },
      "source": [
        "Entonces, ¿qué pasa si su lista de valores en el objeto de índice no están alineados con las claves en su diccionario para la creación de la serie? Bueno, pandas ignorará de su diccionario todas las claves que no estén en su índice, y añadirá valores de tipo None o NaN para cualquier valor de índice que se proporcione y que no esté en la lista de claves de su diccionario."
      ]
    },
    {
      "cell_type": "markdown",
      "id": "aeb86b99",
      "metadata": {},
      "source": [
        "El DataFrame es conceptualmente un objeto serie bidimensional, donde hay un índice y múltiples columnas de contenido, con cada columna teniendo una etiqueta. De hecho, la distinción entre una columna y una fila es sólo conceptual. Y puede pensar en el propio DataFrame simplemente como una matriz de dos ejes etiquetados."
      ]
    },
    {
      "cell_type": "code",
      "execution_count": null,
      "id": "c7a24ec1",
      "metadata": {},
      "outputs": [],
      "source": [
        "df = pd.read_csv('churn.csv', sep=';') # Leemos el csv y separamos las columnas por ;\n",
        "df.head() # El metodo head() nos permite imprimir las 5 primeras filas de nuestro DataFrame"
      ]
    },
    {
      "cell_type": "code",
      "execution_count": null,
      "id": "83827bb3",
      "metadata": {},
      "outputs": [],
      "source": [
        "len(df) #la funcion len(df) nos permite conocer el numero de registros del DataFrame"
      ]
    },
    {
      "cell_type": "markdown",
      "id": "6a814e1b",
      "metadata": {},
      "source": [
        "### Boolean mask"
      ]
    },
    {
      "cell_type": "code",
      "execution_count": null,
      "id": "51c127f0",
      "metadata": {},
      "outputs": [],
      "source": [
        "# Una boolean mask es una lista o array de valores booleanos que se aplica sobre un DataFrame o Series \n",
        "# para seleccionar solo los elementos donde la condición es True.\n",
        "\n",
        "mascara = df[\" \\\"Total Day Min\\\"\"] > 200\n",
        "mascara"
      ]
    },
    {
      "cell_type": "code",
      "execution_count": null,
      "id": "5b09631b",
      "metadata": {},
      "outputs": [],
      "source": [
        "df_filtrado = df[mascara] # Al aplicar la mascara al DataFrame se muestran solamente los registros con valor True\n",
        "print(df_filtrado)"
      ]
    },
    {
      "cell_type": "markdown",
      "id": "ff2a3bf3",
      "metadata": {},
      "source": [
        "## Preparación de los datos"
      ]
    },
    {
      "cell_type": "markdown",
      "id": "3617de92",
      "metadata": {},
      "source": [
        "Cuando se presentan datos faltantes dentro del DataFrame existen varias maneras de afrontarlo:"
      ]
    },
    {
      "cell_type": "markdown",
      "id": "709ef9bf",
      "metadata": {},
      "source": [
        "### Eliminar filas con valores NaN\n",
        "Eliminar cualquier fila que tenga al menos un NaN:"
      ]
    },
    {
      "cell_type": "code",
      "execution_count": null,
      "id": "0db7a515",
      "metadata": {},
      "outputs": [],
      "source": [
        "df_copy = df.copy()\n",
        "df_clean = df_copy.dropna() # Esta es la peor manera de proceder, ya que elimina todo el registro"
      ]
    },
    {
      "cell_type": "markdown",
      "id": "d94a9cdd",
      "metadata": {},
      "source": [
        "Eliminar solo si todos los valores de la fila son NaN:"
      ]
    },
    {
      "cell_type": "code",
      "execution_count": null,
      "id": "bcb7402c",
      "metadata": {},
      "outputs": [],
      "source": [
        "df_clean = df_copy.dropna(how='all')"
      ]
    },
    {
      "cell_type": "markdown",
      "id": "3b42e38f",
      "metadata": {},
      "source": [
        "Eliminar filas solo si hay NaN en columnas específicas:"
      ]
    },
    {
      "cell_type": "code",
      "execution_count": null,
      "id": "20e85a27",
      "metadata": {},
      "outputs": [],
      "source": [
        "df_clean = df_copy.dropna(subset=['State', ' \\\"Total Day Min\\\"'])"
      ]
    },
    {
      "cell_type": "markdown",
      "id": "759e22da",
      "metadata": {},
      "source": [
        "### Reemplazar NaN con un valor fijo\n",
        "\n",
        "Reemplazar todos los NaN por un valor (por ejemplo, 0 o cadena vacía):"
      ]
    },
    {
      "cell_type": "code",
      "execution_count": null,
      "id": "ef60dd21",
      "metadata": {},
      "outputs": [],
      "source": [
        "df_filled = df_copy.fillna(0)\n",
        "# o\n",
        "df_filled = df_copy.fillna('')"
      ]
    },
    {
      "cell_type": "markdown",
      "id": "3c601d01",
      "metadata": {},
      "source": [
        "Reemplazar NaN por valores distintos por columna:"
      ]
    },
    {
      "cell_type": "code",
      "execution_count": null,
      "id": "5dc14339",
      "metadata": {},
      "outputs": [],
      "source": [
        "df_filled = df_copy.fillna({'State': 0, ' \\\"Total Day Min\\\"': 'Desconocido'})"
      ]
    },
    {
      "cell_type": "markdown",
      "id": "73e73d03",
      "metadata": {},
      "source": [
        "### Llenar con valores estadísticos (media, mediana, etc.)\n",
        "\n",
        "Llenar con la media:"
      ]
    },
    {
      "cell_type": "code",
      "execution_count": null,
      "id": "c556beb2",
      "metadata": {},
      "outputs": [],
      "source": [
        "df_copy[' \\\"Total Day Min\\\"'] = df_copy[' \\\"Total Day Min\\\"'].fillna(df_copy[' \\\"Total Day Min\\\"'].mean())"
      ]
    },
    {
      "cell_type": "markdown",
      "id": "85a30f4d",
      "metadata": {},
      "source": [
        "Llenar con la mediana:"
      ]
    },
    {
      "cell_type": "code",
      "execution_count": null,
      "id": "dd17c59b",
      "metadata": {},
      "outputs": [],
      "source": [
        "df_copy[' \\\"Total Day Min\\\"'] = df_copy[' \\\"Total Day Min\\\"'].fillna(df_copy[' \\\"Total Day Min\\\"'].median())\n"
      ]
    },
    {
      "cell_type": "markdown",
      "id": "429a61aa",
      "metadata": {},
      "source": [
        "Llenar con la moda (valor más frecuente):"
      ]
    },
    {
      "cell_type": "code",
      "execution_count": null,
      "id": "fa099e18",
      "metadata": {},
      "outputs": [],
      "source": [
        "df_copy[' \\\"Total Day Min\\\"'] = df_copy[' \\\"Total Day Min\\\"'].fillna(df_copy[' \\\"Total Day Min\\\"'].mode()[0])"
      ]
    },
    {
      "cell_type": "markdown",
      "id": "ab7780f4",
      "metadata": {},
      "source": [
        "### Llenar hacia adelante o hacia atrás (útil en series temporales)"
      ]
    },
    {
      "cell_type": "code",
      "execution_count": null,
      "id": "5f672524",
      "metadata": {},
      "outputs": [],
      "source": [
        "df_filled = df_copy.fillna(method='ffill') # Llenar con el valor anterior  - Forward\n",
        "df_filled = df_copy.fillna(method='bfill') # Llenar con el valor siguiente - Backward"
      ]
    },
    {
      "cell_type": "markdown",
      "id": "9f39aa82",
      "metadata": {},
      "source": [
        "### Renombrar columnas"
      ]
    },
    {
      "cell_type": "code",
      "execution_count": null,
      "id": "32d6079b",
      "metadata": {},
      "outputs": [],
      "source": [
        "df = pd.read_csv('churn.csv', sep=';')"
      ]
    },
    {
      "cell_type": "code",
      "execution_count": null,
      "id": "df7e9fef",
      "metadata": {},
      "outputs": [],
      "source": [
        "df_renombrado = df.rename(columns={'State': 'Estado'})\n",
        "df_renombrado.columns"
      ]
    },
    {
      "cell_type": "code",
      "execution_count": null,
      "id": "4d69b19b",
      "metadata": {},
      "outputs": [],
      "source": [
        "# Regex es una herramienta de busqueda, extracción, reemplazo y validación de patrones en cadenas de texto. Para consultas basadas en expresiones regulares\n",
        "\n",
        "df.columns = df.columns.str.replace('\"', '', regex=False) # Elimino todas las comillas en los nombres\n",
        "df.columns"
      ]
    },
    {
      "cell_type": "code",
      "execution_count": null,
      "id": "5c3c98ec",
      "metadata": {},
      "outputs": [],
      "source": [
        "df.columns = df.columns.str.replace(' ', '_', regex=False) # Cambio los espacios por _\n",
        "df.columns"
      ]
    },
    {
      "cell_type": "code",
      "execution_count": null,
      "id": "d5eac992",
      "metadata": {},
      "outputs": [],
      "source": [
        "\n",
        "df.columns = df.columns.str.replace(r'^_+', '', regex=True) # Elimino el _ que aparece al inicio del nombre\n",
        "df.columns"
      ]
    },
    {
      "cell_type": "markdown",
      "id": "6fe87e04",
      "metadata": {},
      "source": [
        "### Eliminación de columnas\n",
        "\n",
        "Antes de continuar volvamos a cargar nuestro data set y llegar hasta este punto, en caso de presentarse algún error"
      ]
    },
    {
      "cell_type": "code",
      "execution_count": null,
      "id": "6e9e25f7",
      "metadata": {},
      "outputs": [],
      "source": [
        "df = pd.read_csv('churn.csv', sep=';')\n",
        "df.columns = (\n",
        "    df.columns\n",
        "    .str.strip()                         # Elimina espacios alrededor\n",
        "    .str.replace(' ', '_', regex=False) # Reemplaza espacios por _\n",
        "    .str.replace(r'^_+', '', regex=True)# Elimina _ al inicio\n",
        "    .str.replace('\"', '', regex=False)\n",
        ")\n",
        "df.drop({\"State\",\"Area_Code\"}, axis=1, inplace=True) # Eliminamos la columna con drop, axis=1 → columnas\n",
        "# inplace nos permite almacenar el estado actual del df sin necesidad de decir df = ...\n",
        "df.head()"
      ]
    },
    {
      "cell_type": "markdown",
      "id": "6bd97033",
      "metadata": {},
      "source": [
        "### Mapear valores"
      ]
    },
    {
      "cell_type": "markdown",
      "id": "083b015c",
      "metadata": {},
      "source": [
        "Para el caso del ejemplo vamos a reemplazar en las columnas Inter_Plan y VoiceMail_Plan los valores de \"yes\" a 1 y de \"no\" a 0.\n",
        "\n",
        "Pero antes es necesario asegurarnos de que las comillas desaparezcan"
      ]
    },
    {
      "cell_type": "code",
      "execution_count": null,
      "id": "4705e72c",
      "metadata": {},
      "outputs": [],
      "source": [
        "df['VoiceMail_Plan'] = df['VoiceMail_Plan'].str.strip()\n",
        "df['VoiceMail_Plan'] = df['VoiceMail_Plan'].str.replace('\"', '', regex=False)\n",
        "df['Inter_Plan'] = df['Inter_Plan'].str.strip()\n",
        "df['Inter_Plan'] = df['Inter_Plan'].str.replace('\"', '', regex=False)\n",
        "\n",
        "df.head()"
      ]
    },
    {
      "cell_type": "markdown",
      "id": "8d8759ed",
      "metadata": {},
      "source": [
        "Mediante una funcion lambda podemos aplicar este mismo proceso a todo el df en una unica linea"
      ]
    },
    {
      "cell_type": "code",
      "execution_count": null,
      "id": "11f24459",
      "metadata": {},
      "outputs": [],
      "source": [
        "df = df.apply(lambda col: col.str.strip().str.replace('\"', '', regex=False) if col.dtype == 'object' or pd.api.types.is_string_dtype(col) else col)\n",
        "df.head()"
      ]
    },
    {
      "cell_type": "markdown",
      "id": "b68563c2",
      "metadata": {},
      "source": [
        "Con la funcion map podemos cambiar sus valores"
      ]
    },
    {
      "cell_type": "code",
      "execution_count": null,
      "id": "5f43127b",
      "metadata": {},
      "outputs": [],
      "source": [
        "df['VoiceMail_Plan'] = df['VoiceMail_Plan'].map({'yes': 1, 'no': 0})\n",
        "df['Inter_Plan'] = df['Inter_Plan'].map({'yes': 1, 'no': 0})\n",
        "df.head()"
      ]
    },
    {
      "cell_type": "markdown",
      "id": "57d52e29",
      "metadata": {},
      "source": [
        "### Correlación\n",
        "\n",
        "Para evaluar la correlación de Pearson entre las columnas numéricas de un DataFrame se puede usar el método .corr() de pandas, que calcula la matriz de correlación para todas las columnas.\n",
        "\n",
        "Para este ejemplo utilizaremos Matplotlib. Aquí se utilizará matplotlib.pyplot para el análisis de datos. Ya que puede crear histogramas, gráficos de barras, gráficos de error, gráficos de dispersión y así sucesivamente con sólo unas pocas líneas de código."
      ]
    },
    {
      "cell_type": "code",
      "execution_count": null,
      "id": "123999df",
      "metadata": {},
      "outputs": [],
      "source": [
        "import seaborn as sns\n",
        "import matplotlib.pyplot as plt\n",
        "\n",
        "# Matriz de correlación\n",
        "dfcopy = df.drop({\"Phone_Number\",\"Churn\"}, axis=1)\n",
        "correlation_matrix = dfcopy.corr()\n",
        "# Crear un heatmap\n",
        "plt.figure(figsize=(10, 8))\n",
        "sns.heatmap(correlation_matrix, annot=True, cmap='coolwarm', fmt='.2f', linewidths=0.5)\n",
        "plt.show()\n"
      ]
    },
    {
      "cell_type": "code",
      "execution_count": null,
      "id": "04bedac9",
      "metadata": {},
      "outputs": [],
      "source": [
        "# Tambien podemos ver rapidamente cual es la distribución de nuestra variable objetivo\n",
        "\n",
        "import seaborn as sns\n",
        "sns.countplot(x='Churn', data=df)\n",
        "plt.title('Distribución de clases')\n",
        "plt.show()"
      ]
    },
    {
      "cell_type": "markdown",
      "id": "ed8bda36",
      "metadata": {},
      "source": [
        "# Scikit-learn para clasificación\n",
        "\n",
        "Scikit-learn es la biblioteca de Python más utilizada para el aprendizaje automático. Es un proyecto de código abierto que está en continuo desarrollo y mejora y es compatible con una amplia gama de importantes algoritmos de aprendizaje automático. Scikit-learn hace uso de otras dos bibliotecas de computación científica de Python llamadas SciPy y NumPy.SciPy es una biblioteca de Python que soporta la manipulación de datos y métodos de análisis que se utilizan comúnmente en la computación científica. Esto incluye soporte para distribuciones estadísticas, optimización de funciones, álgebra lineal y una variedad de funciones matemáticas especializadas. "
      ]
    },
    {
      "cell_type": "code",
      "execution_count": null,
      "id": "e0beb602",
      "metadata": {},
      "outputs": [],
      "source": [
        "# Iniciamos importanto las librerias necesarias\n",
        "\n",
        "import pandas as pd\n",
        "import numpy as np\n",
        "import matplotlib.pyplot as plt\n",
        "import seaborn as sns\n",
        "from sklearn.model_selection import train_test_split\n",
        "from sklearn.preprocessing import StandardScaler\n",
        "from sklearn.neighbors import KNeighborsClassifier\n",
        "from sklearn.metrics import classification_report, confusion_matrix\n",
        "from matplotlib import cm\n",
        "\n",
        "\n",
        "df = pd.read_csv('churn.csv', sep=';')\n",
        "df.columns = (\n",
        "    df.columns\n",
        "    .str.strip()                         # Elimina espacios alrededor\n",
        "    .str.replace(' ', '_', regex=False) # Reemplaza espacios por _\n",
        "    .str.replace(r'^_+', '', regex=True)# Elimina _ al inicio\n",
        "    .str.replace('\"', '', regex=False)\n",
        ")\n",
        "df.drop({\"State\",\"Area_Code\"}, axis=1, inplace=True)\n",
        "df = df.apply(lambda col: col.str.strip().str.replace('\"', '', regex=False) if col.dtype == 'object' or pd.api.types.is_string_dtype(col) else col)\n",
        "df['VoiceMail_Plan'] = df['VoiceMail_Plan'].map({'yes': 1, 'no': 0})\n",
        "df['Inter_Plan'] = df['Inter_Plan'].map({'yes': 1, 'no': 0})\n",
        "df['Churn'] = df['Churn'].map({'FALSE': 0, 'TRUE': 1})\n",
        "df.head()"
      ]
    },
    {
      "cell_type": "markdown",
      "id": "55cc239d",
      "metadata": {},
      "source": [
        "Para que nuestros resultados sean replicables vamos a definir una semilla utilizando Numpy"
      ]
    },
    {
      "cell_type": "code",
      "execution_count": null,
      "id": "f4c5f6e0",
      "metadata": {},
      "outputs": [],
      "source": [
        "np.random.seed(42)"
      ]
    },
    {
      "cell_type": "markdown",
      "id": "5d537656",
      "metadata": {},
      "source": [
        "## Balanceo mediante \"undersampling\"\n",
        "\n",
        "Como nuestra clase está sobrerrepresentada en relación con otra, el modelo puede enfocarse en predecir la clase mayoritaria y tener una alta precisión, pero un mal rendimiento para la clase minoritaria.\n",
        "\n",
        "Para solucionar este problema realizaremos un balanceo con Submuestreo o \"undersampling\", el cual reduce la cantidad de registros de la clase mayoritaria para igualarla con la minoritaria."
      ]
    },
    {
      "cell_type": "code",
      "execution_count": null,
      "id": "0dc53f1c",
      "metadata": {},
      "outputs": [],
      "source": [
        "from sklearn.utils import resample\n",
        "\n",
        "# Separar clases\n",
        "df_majority = df[df['Churn'] == 0]\n",
        "df_minority = df[df['Churn'] == 1]\n",
        "\n",
        "# Submuestrear clase mayoritaria\n",
        "df_majority_downsampled = resample(df_majority,\n",
        "                                   replace=False,\n",
        "                                   n_samples=len(df_minority),\n",
        "                                   random_state=42)\n",
        "\n",
        "# Combinar\n",
        "df_balanced = pd.concat([df_majority_downsampled, df_minority])\n",
        "df_balanced.size"
      ]
    },
    {
      "cell_type": "markdown",
      "id": "345d96c0",
      "metadata": {},
      "source": [
        "## División de los Datos en Conjunto de Entrenamiento y Prueba\n",
        "\n",
        "Una vez que se ha realizado el análisis exploratorio de los datos y se han seleccionado las entradas a nuestro modelo, vamos a realizar la división del dataset de entrenamiento y prueba."
      ]
    },
    {
      "cell_type": "markdown",
      "id": "ec0c9317",
      "metadata": {},
      "source": [
        "Vamos a definir una variable \"y\" que varia en función de \"x\""
      ]
    },
    {
      "cell_type": "code",
      "execution_count": null,
      "id": "36a2c5c0",
      "metadata": {},
      "outputs": [],
      "source": [
        "X = df_balanced[['Inter_Plan', 'VoiceMail_Plan',\n",
        "       'No_of_Vmail_Mesgs', 'Total_Day_Min', 'Total_Day_calls',\n",
        "       'Total_Evening_Min', 'Total_Evening_Calls',\n",
        "       'Total_Int_Min', 'Total_Int_Calls',\n",
        "       'No_of_Calls_Customer_Service','Total_Day_Charge',\n",
        "       'Total_Evening_Charge','Total_Night_Charge']]\n",
        "y = df_balanced['Churn']"
      ]
    },
    {
      "cell_type": "markdown",
      "id": "9fabd7e6",
      "metadata": {},
      "source": [
        "Los resultados de la función de división entrenamiento-prueba se colocan en las cuatro variables que ves a la izquierda. Están marcadas como X_entrenamiento, X_prueba, Y_entrenamiento e Y_prueba. "
      ]
    },
    {
      "cell_type": "code",
      "execution_count": null,
      "id": "e1491195",
      "metadata": {},
      "outputs": [],
      "source": [
        "# Por defecto se divide 75% / 25% train-test. Para modificarlo usamos el atributo test_size\n",
        "# Se establece el parámetro de estado aleatorio a un valor específico, en este caso 0 para hacer nuestros valores replicables.\n",
        "X_train, X_test, y_train, y_test = train_test_split(X, y, random_state=0)"
      ]
    },
    {
      "cell_type": "markdown",
      "id": "af9660f5",
      "metadata": {},
      "source": [
        "## Escalado de las Características\n",
        "\n",
        "El escalado es útil para algoritmos que dependen de distancias entre puntos (como KNN, SVM)."
      ]
    },
    {
      "cell_type": "code",
      "execution_count": null,
      "id": "8f67ced4",
      "metadata": {},
      "outputs": [],
      "source": [
        "scaler = StandardScaler()\n",
        "X_train_scaled = scaler.fit_transform(X_train)\n",
        "X_test_scaled = scaler.transform(X_test)"
      ]
    },
    {
      "cell_type": "markdown",
      "id": "d50eae96",
      "metadata": {},
      "source": [
        "## Entrenamiento del Modelo de Clasificación"
      ]
    },
    {
      "cell_type": "markdown",
      "id": "3a8cd49b",
      "metadata": {},
      "source": [
        "Una vez que tenemos nuestra división de entrenamiento-prueba, tenemos que crear una instancia del objeto clasificador, en este caso, un clasificador k-NN. Y luego establecer el número de vecinos a un valor específico para ser utilizado por el clasificador."
      ]
    },
    {
      "cell_type": "code",
      "execution_count": null,
      "id": "d5e56a40",
      "metadata": {},
      "outputs": [],
      "source": [
        "# Crear el clasificador KNN\n",
        "knn = KNeighborsClassifier(n_neighbors=5)\n",
        "\n",
        "# Entrenar el modelo\n",
        "knn.fit(X_train_scaled, y_train)"
      ]
    },
    {
      "cell_type": "markdown",
      "id": "6fc84e49",
      "metadata": {},
      "source": [
        "## Evaluación del modelo"
      ]
    },
    {
      "cell_type": "code",
      "execution_count": null,
      "id": "99bc1794",
      "metadata": {},
      "outputs": [],
      "source": [
        "print(\"Precisión del modelo en test:\", knn.score(X_test_scaled, y_test))\n",
        "\n",
        "# Predicciones\n",
        "y_pred = knn.predict(X_test_scaled)\n",
        "\n",
        "# Reporte de métricas\n",
        "print(classification_report(y_test, y_pred))\n",
        "\n",
        "\n",
        "# Matriz de confusión\n",
        "cm = confusion_matrix(y_test, y_pred)\n",
        "\n",
        "# Visualización con Seaborn\n",
        "sns.heatmap(cm, annot=True, fmt='d', cmap='Blues')\n",
        "plt.title('Matriz de Confusión - KNN')\n",
        "plt.xlabel('Predicción')\n",
        "plt.ylabel('Real')\n",
        "plt.show()\n"
      ]
    },
    {
      "cell_type": "markdown",
      "id": "5ad17589",
      "metadata": {},
      "source": [
        "Podemos ademas probar distintos valores para k"
      ]
    },
    {
      "cell_type": "code",
      "execution_count": null,
      "id": "8cfed794",
      "metadata": {},
      "outputs": [],
      "source": [
        "errors = []\n",
        "for k in range(1, 20):\n",
        "    knn = KNeighborsClassifier(n_neighbors=k)\n",
        "    knn.fit(X_train_scaled, y_train)\n",
        "    y_pred_k = knn.predict(X_test_scaled)\n",
        "    error = np.mean(y_pred_k != y_test)\n",
        "    errors.append(error)\n",
        "\n",
        "plt.plot(range(1, 20), errors, marker='o', alpha=0.7, linewidth=3, linestyle='-')\n",
        "# plt.plot(x, y, color='blue', alpha=0.3, linewidth=3, linestyle='-', marker='o')\n",
        "plt.xticks(ticks=range(1, 21))  # Mostrar números del 1 al 10 en el eje X\n",
        "plt.title('Error de clasificación vs Número de Vecinos (k)')\n",
        "plt.grid(True)\n",
        "plt.xlabel('Número de vecinos (k)')\n",
        "plt.ylabel('Error promedio')\n",
        "plt.show()\n"
      ]
    },
    {
      "cell_type": "markdown",
      "id": "8687f7c4",
      "metadata": {},
      "source": [
        "Podemos probar nuevamente con 7 vecinos (k=7)"
      ]
    },
    {
      "cell_type": "code",
      "execution_count": null,
      "id": "d494a2fe",
      "metadata": {},
      "outputs": [],
      "source": [
        "from sklearn.model_selection import train_test_split\n",
        "import pandas as pd\n",
        "import numpy as np\n",
        "import matplotlib.pyplot as plt\n",
        "import seaborn as sns\n",
        "from sklearn.preprocessing import StandardScaler\n",
        "from sklearn.neighbors import KNeighborsClassifier\n",
        "from sklearn.metrics import classification_report, confusion_matrix\n",
        "from matplotlib import cm\n",
        "from sklearn.utils import resample"
      ]
    },
    {
      "cell_type": "code",
      "execution_count": null,
      "id": "38c3c201",
      "metadata": {},
      "outputs": [],
      "source": [
        "# Lectura del data set\n",
        "df = pd.read_csv('churn.csv', sep=';')\n",
        "\n",
        "# Preparación de los datos\n",
        "df.columns = (\n",
        "    df.columns\n",
        "    .str.strip()                         # Elimina espacios alrededor\n",
        "    .str.replace(' ', '_', regex=False) # Reemplaza espacios por _\n",
        "    .str.replace(r'^_+', '', regex=True)# Elimina _ al inicio\n",
        "    .str.replace('\"', '', regex=False)\n",
        ")\n",
        "df.drop({\"State\",\"Area_Code\"}, axis=1, inplace=True)\n",
        "df = df.apply(lambda col: col.str.strip().str.replace('\"', '', regex=False) if col.dtype == 'object' or pd.api.types.is_string_dtype(col) else col)\n",
        "df['VoiceMail_Plan'] = df['VoiceMail_Plan'].map({'yes': 1, 'no': 0})\n",
        "df['Inter_Plan'] = df['Inter_Plan'].map({'yes': 1, 'no': 0})\n",
        "df['Churn'] = df['Churn'].map({'FALSE': 0, 'TRUE': 1})\n",
        "\n",
        "# Separación del data set de entrenamiento y prueba con escalado\n",
        "np.random.seed(42)\n",
        "\n",
        "# Separar clases\n",
        "df_majority = df[df['Churn'] == 0]\n",
        "df_minority = df[df['Churn'] == 1]\n",
        "\n",
        "# Submuestrear clase mayoritaria\n",
        "df_majority_downsampled = resample(df_majority,\n",
        "                                   replace=False,\n",
        "                                   n_samples=len(df_minority),\n",
        "                                   random_state=42)\n",
        "\n",
        "# Combinar\n",
        "df_balanced = pd.concat([df_majority_downsampled, df_minority])\n",
        "df_balanced.size\n",
        "\n",
        "X = df_balanced[['Inter_Plan', 'VoiceMail_Plan',\n",
        "       'No_of_Vmail_Mesgs', 'Total_Day_Min', 'Total_Day_calls',\n",
        "       'Total_Evening_Min', 'Total_Evening_Calls',\n",
        "       'Total_Int_Min', 'Total_Int_Calls',\n",
        "       'No_of_Calls_Customer_Service','Total_Day_Charge',\n",
        "       'Total_Evening_Charge','Total_Night_Charge']]\n",
        "y = df_balanced['Churn']\n",
        "X_train, X_test, y_train, y_test = train_test_split(X, y, random_state=0)\n",
        "scaler = StandardScaler()\n",
        "X_train_scaled = scaler.fit_transform(X_train)\n",
        "X_test_scaled = scaler.transform(X_test)\n",
        "\n",
        "# Entrenamiento del modelo\n",
        "knn = KNeighborsClassifier(n_neighbors=7)\n",
        "knn.fit(X_train_scaled, y_train)\n",
        "\n",
        "# Predicciones\n",
        "y_pred = knn.predict(X_test_scaled)\n",
        "\n",
        "# Reporte de métricas\n",
        "print(classification_report(y_test, y_pred))\n",
        "\n",
        "# Matriz de confusión\n",
        "cm = confusion_matrix(y_test, y_pred)\n",
        "\n",
        "# Visualización con Seaborn\n",
        "sns.heatmap(cm, annot=True, fmt='d', cmap='Blues')\n",
        "plt.title('Matriz de Confusión - KNN')\n",
        "plt.xlabel('Predicción')\n",
        "plt.ylabel('Real')\n",
        "plt.show()"
      ]
    },
    {
      "cell_type": "markdown",
      "id": "a57ade86",
      "metadata": {},
      "source": [
        "## Lazy predict\n",
        "\n",
        "LazyPredict es una librería de Python muy útil cuando se quieren probar rápidamente varios modelos de machine learning clásicos y ver cuál funciona mejor con un dataset sin escribir código repetitivo."
      ]
    },
    {
      "cell_type": "code",
      "execution_count": null,
      "id": "dd05c806",
      "metadata": {},
      "outputs": [],
      "source": [
        "!pip install lazypredict"
      ]
    },
    {
      "cell_type": "code",
      "execution_count": null,
      "id": "232430f4",
      "metadata": {},
      "outputs": [],
      "source": [
        "from lazypredict.Supervised import LazyClassifier\n",
        "\n",
        "# Probar múltiples modelos de clasificación\n",
        "clf = LazyClassifier(verbose=0, ignore_warnings=True, custom_metric=None)\n",
        "models, predictions = clf.fit(X_train_scaled, X_test_scaled, y_train, y_test)\n",
        "# Mostrar los resultados\n",
        "print(models)"
      ]
    }
  ],
  "metadata": {
    "colab": {
      "include_colab_link": true,
      "provenance": []
    },
    "kernelspec": {
      "display_name": "Python 3",
      "language": "python",
      "name": "python3"
    },
    "language_info": {
      "codemirror_mode": {
        "name": "ipython",
        "version": 3
      },
      "file_extension": ".py",
      "mimetype": "text/x-python",
      "name": "python",
      "nbconvert_exporter": "python",
      "pygments_lexer": "ipython3",
      "version": "3.9.6"
    }
  },
  "nbformat": 4,
  "nbformat_minor": 5
}
