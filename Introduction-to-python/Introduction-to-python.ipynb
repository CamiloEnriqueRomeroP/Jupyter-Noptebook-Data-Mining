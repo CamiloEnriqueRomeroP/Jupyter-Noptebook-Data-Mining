{
  "cells": [
    {
      "cell_type": "markdown",
      "metadata": {
        "id": "view-in-github",
        "colab_type": "text"
      },
      "source": [
        "<a href=\"https://colab.research.google.com/github/CamiloEnriqueRomeroP/Jupyter-Noptebook-Data-Mining/blob/main/Introduction-to-python/Introduction-to-python.ipynb\" target=\"_parent\"><img src=\"https://colab.research.google.com/assets/colab-badge.svg\" alt=\"Open In Colab\"/></a>"
      ]
    },
    {
      "cell_type": "markdown",
      "id": "781b8c79",
      "metadata": {
        "id": "781b8c79"
      },
      "source": [
        "# Introducción práctica a Python y Scikit-learn para clasificación"
      ]
    },
    {
      "cell_type": "markdown",
      "id": "6fef0996",
      "metadata": {
        "id": "6fef0996"
      },
      "source": [
        "Python es un lenguaje de programación de alto nivel, interpretado y de propósito general, conocido por su sintaxis clara y sencilla que facilita la lectura y escritura del código. Fue creado por Guido van Rossum y es ampliamente utilizado en diversos campos como desarrollo web, análisis de datos, inteligencia artificial, automatización, y más. Su diseño enfatiza la legibilidad del código y permite a los programadores expresar conceptos en menos líneas que otros lenguajes como Java o C++. Además, cuenta con una gran comunidad y una vasta colección de bibliotecas que extienden su funcionalidad."
      ]
    },
    {
      "cell_type": "markdown",
      "id": "adbe459d",
      "metadata": {
        "id": "adbe459d"
      },
      "source": [
        "## Tipos de datos en Python\n",
        "\n",
        "En Python, los tipos de datos más comunes son:"
      ]
    },
    {
      "cell_type": "markdown",
      "id": "6e69bf59",
      "metadata": {
        "id": "6e69bf59"
      },
      "source": [
        "Enteros (int): números sin decimales (ej. 5)"
      ]
    },
    {
      "cell_type": "code",
      "execution_count": 2,
      "id": "a7cff72d",
      "metadata": {
        "id": "a7cff72d",
        "outputId": "1a8ba236-697c-4f0c-8a25-4cdf84928e29",
        "colab": {
          "base_uri": "https://localhost:8080/"
        }
      },
      "outputs": [
        {
          "output_type": "execute_result",
          "data": {
            "text/plain": [
              "int"
            ]
          },
          "metadata": {},
          "execution_count": 2
        }
      ],
      "source": [
        "x = 5\n",
        "type(x)"
      ]
    },
    {
      "cell_type": "markdown",
      "id": "b58e3ae1",
      "metadata": {
        "id": "b58e3ae1"
      },
      "source": [
        "Flotantes (float): números con decimales (ej. 3.14)"
      ]
    },
    {
      "cell_type": "code",
      "execution_count": 3,
      "id": "cf41f9c6",
      "metadata": {
        "id": "cf41f9c6",
        "outputId": "e194936f-9420-4c1b-fbbd-81a7f6eb606f",
        "colab": {
          "base_uri": "https://localhost:8080/"
        }
      },
      "outputs": [
        {
          "output_type": "execute_result",
          "data": {
            "text/plain": [
              "float"
            ]
          },
          "metadata": {},
          "execution_count": 3
        }
      ],
      "source": [
        "x = 3.14\n",
        "type(x)"
      ]
    },
    {
      "cell_type": "markdown",
      "id": "2dc60fed",
      "metadata": {
        "id": "2dc60fed"
      },
      "source": [
        "Cadenas (str): texto (ej. \"Hola\")"
      ]
    },
    {
      "cell_type": "code",
      "execution_count": 4,
      "id": "42ea9652",
      "metadata": {
        "id": "42ea9652",
        "outputId": "aac0a13f-ca8f-4ca6-c3c1-540e809bbf26",
        "colab": {
          "base_uri": "https://localhost:8080/"
        }
      },
      "outputs": [
        {
          "output_type": "execute_result",
          "data": {
            "text/plain": [
              "str"
            ]
          },
          "metadata": {},
          "execution_count": 4
        }
      ],
      "source": [
        "x = 'Hola'\n",
        "type(x)"
      ]
    },
    {
      "cell_type": "markdown",
      "id": "b4fcbf4a",
      "metadata": {
        "id": "b4fcbf4a"
      },
      "source": [
        "Booleanos (bool): valores True o False"
      ]
    },
    {
      "cell_type": "code",
      "execution_count": null,
      "id": "1070c4b7",
      "metadata": {
        "id": "1070c4b7",
        "outputId": "38c9548b-c5d5-4f85-aaef-127d873c2b02"
      },
      "outputs": [
        {
          "data": {
            "text/plain": [
              "bool"
            ]
          },
          "execution_count": 6,
          "metadata": {},
          "output_type": "execute_result"
        }
      ],
      "source": [
        "x = True\n",
        "type(x)"
      ]
    },
    {
      "cell_type": "markdown",
      "id": "615ac2ec",
      "metadata": {
        "id": "615ac2ec"
      },
      "source": [
        "Conjuntos (set): colecciones sin orden ni elementos repetidos (ej. {1, 2, 3})"
      ]
    },
    {
      "cell_type": "code",
      "execution_count": null,
      "id": "aeb2dec7",
      "metadata": {
        "id": "aeb2dec7",
        "outputId": "abc8fbd1-9b7f-4672-c665-9b566e25586b"
      },
      "outputs": [
        {
          "data": {
            "text/plain": [
              "set"
            ]
          },
          "execution_count": 7,
          "metadata": {},
          "output_type": "execute_result"
        }
      ],
      "source": [
        "x = {1,2,3}\n",
        "type(x)"
      ]
    },
    {
      "cell_type": "markdown",
      "id": "8d40a7c1",
      "metadata": {
        "id": "8d40a7c1"
      },
      "source": [
        "### Tuplas"
      ]
    },
    {
      "cell_type": "markdown",
      "id": "e07d67bb",
      "metadata": {
        "id": "e07d67bb"
      },
      "source": [
        "Las tuplas son una estructura de datos inmutable (no se pueden alterar)."
      ]
    },
    {
      "cell_type": "code",
      "execution_count": null,
      "id": "7dd208d2",
      "metadata": {
        "id": "7dd208d2",
        "outputId": "d23361ea-863d-42b8-ab3a-1e3383719aac"
      },
      "outputs": [
        {
          "data": {
            "text/plain": [
              "tuple"
            ]
          },
          "execution_count": 8,
          "metadata": {},
          "output_type": "execute_result"
        }
      ],
      "source": [
        "x = (1, 'a', 2, 'b')\n",
        "type(x)"
      ]
    },
    {
      "cell_type": "markdown",
      "id": "5000ae0a",
      "metadata": {
        "id": "5000ae0a"
      },
      "source": [
        "### Listas"
      ]
    },
    {
      "cell_type": "markdown",
      "id": "30ddd737",
      "metadata": {
        "id": "30ddd737"
      },
      "source": [
        "Las listas son una estructura de datos mutable."
      ]
    },
    {
      "cell_type": "code",
      "execution_count": null,
      "id": "58ccd180",
      "metadata": {
        "id": "58ccd180",
        "outputId": "57345192-a182-4ee7-bd2f-b5a628dd3229"
      },
      "outputs": [
        {
          "data": {
            "text/plain": [
              "list"
            ]
          },
          "execution_count": 12,
          "metadata": {},
          "output_type": "execute_result"
        }
      ],
      "source": [
        "x = [1, 'a', 2, 'b']\n",
        "type(x)"
      ]
    },
    {
      "cell_type": "markdown",
      "id": "153fa46e",
      "metadata": {
        "id": "153fa46e"
      },
      "source": [
        "### Diccionarios"
      ]
    },
    {
      "cell_type": "markdown",
      "id": "bf995cec",
      "metadata": {
        "id": "bf995cec"
      },
      "source": [
        "Los diccionarios son similares a las listas y tuplas ya que contienen una colección de elementos, pero son colecciones etiquetadas que no tienen un orden. Esto significa que por cada valor que insertas en el diccionario, también debes dar una clave para sacar ese valor. En otros lenguajes la estructura suele llamarse mapa. Y en Python usamos llaves para denotar un diccionario. He aquí un ejemplo en el que podríamos relacionar nombres con direcciones de correo electrónico. Puede ver que indicamos cada elemento del diccionario al crearlo usando un par de valores separados por dos puntos. Luego puede recuperar un valor para una etiqueta dada utilizando el operador de indexación."
      ]
    },
    {
      "cell_type": "code",
      "execution_count": null,
      "id": "e5cf2403",
      "metadata": {
        "id": "e5cf2403",
        "outputId": "68aa8be3-bb2b-4aea-8d93-4d34369140c9"
      },
      "outputs": [
        {
          "data": {
            "text/plain": [
              "'ceromero@unicauca.edu.co'"
            ]
          },
          "execution_count": 16,
          "metadata": {},
          "output_type": "execute_result"
        }
      ],
      "source": [
        "x = {'Camilo Romero': 'ceromero@unicauca.edu.co', 'Carlos Cobos': 'ccobos@unicauca.edu.co'}\n",
        "x['Camilo Romero']  # Recuperar un valor utilizando el operador de indexación"
      ]
    },
    {
      "cell_type": "markdown",
      "id": "66a81b7d",
      "metadata": {
        "id": "66a81b7d"
      },
      "source": [
        "Podemos iterar sobre todas las llaves:"
      ]
    },
    {
      "cell_type": "code",
      "execution_count": null,
      "id": "7f58b754",
      "metadata": {
        "id": "7f58b754",
        "outputId": "0831f83f-3b09-4c28-b0b8-c55979ddeb17"
      },
      "outputs": [
        {
          "name": "stdout",
          "output_type": "stream",
          "text": [
            "ceromero@unicauca.edu.co\n",
            "ccobos@unicauca.edu.co\n"
          ]
        }
      ],
      "source": [
        "for name in x:\n",
        "    print(x[name])"
      ]
    },
    {
      "cell_type": "markdown",
      "id": "37461db6",
      "metadata": {
        "id": "37461db6"
      },
      "source": [
        "Y tambien sobre los valores:"
      ]
    },
    {
      "cell_type": "code",
      "execution_count": null,
      "id": "7c5f39d0",
      "metadata": {
        "id": "7c5f39d0",
        "outputId": "d53bd9f0-341d-4f54-e69f-c5b3da5bc469"
      },
      "outputs": [
        {
          "name": "stdout",
          "output_type": "stream",
          "text": [
            "ceromero@unicauca.edu.co\n",
            "ccobos@unicauca.edu.co\n"
          ]
        }
      ],
      "source": [
        "for email in x.values():\n",
        "    print(email)"
      ]
    },
    {
      "cell_type": "markdown",
      "id": "b0317823",
      "metadata": {
        "id": "b0317823"
      },
      "source": [
        "O sobre cada item del diccionario:"
      ]
    },
    {
      "cell_type": "code",
      "execution_count": null,
      "id": "a83c7581",
      "metadata": {
        "id": "a83c7581",
        "outputId": "b064050b-70a8-4935-949f-ef36e850a82a"
      },
      "outputs": [
        {
          "name": "stdout",
          "output_type": "stream",
          "text": [
            "Nombre: Camilo Romero , Correo: ceromero@unicauca.edu.co\n",
            "Nombre: Carlos Cobos , Correo: ccobos@unicauca.edu.co\n"
          ]
        }
      ],
      "source": [
        "for name, email in x.items():\n",
        "    print(\"Nombre:\",name,\", Correo:\",email)"
      ]
    },
    {
      "cell_type": "markdown",
      "id": "add3f8e4",
      "metadata": {
        "id": "add3f8e4"
      },
      "source": [
        "Para el ejemplo vamos a importar el dataset churn:"
      ]
    },
    {
      "cell_type": "markdown",
      "id": "6e9e4aed",
      "metadata": {
        "id": "6e9e4aed"
      },
      "source": [
        "## Numpy"
      ]
    },
    {
      "cell_type": "markdown",
      "id": "4bd11de5",
      "metadata": {
        "id": "4bd11de5"
      },
      "source": [
        "Numpy es el paquete fundamental para la computación numérica con Python. Proporciona potentes formas de crear, almacenar y / o manipular datos, lo que hace que sea capaz de integrarse sin problemas y rápidamente con una amplia variedad de bases de datos. También es la base sobre la que se construye Pandas."
      ]
    },
    {
      "cell_type": "code",
      "execution_count": null,
      "id": "db1bd8cf",
      "metadata": {
        "id": "db1bd8cf"
      },
      "outputs": [],
      "source": [
        "import numpy as np\n",
        "import math"
      ]
    },
    {
      "cell_type": "code",
      "execution_count": null,
      "id": "379864a9",
      "metadata": {
        "id": "379864a9",
        "outputId": "7ae62dd1-ba60-4526-c2bc-8f3e8025b3c8"
      },
      "outputs": [
        {
          "name": "stdout",
          "output_type": "stream",
          "text": [
            "[1 2 3]\n",
            "1\n"
          ]
        }
      ],
      "source": [
        "# Los arrays (arreglos) se muestran como una lista o lista de listas y pueden crearse también a través de listas.\n",
        "# Al crear un array, pasamos una lista como argumento en numpy array\n",
        "a = np.array([1, 2, 3])\n",
        "print(a)\n",
        "print(a.ndim) # Mostramos el número de dimensiones"
      ]
    },
    {
      "cell_type": "code",
      "execution_count": null,
      "id": "8ad9f052",
      "metadata": {
        "id": "8ad9f052",
        "outputId": "91251bd4-0bc1-492d-c3bc-29a31038e75c"
      },
      "outputs": [
        {
          "data": {
            "text/plain": [
              "array([[1, 2, 3],\n",
              "       [4, 5, 6]])"
            ]
          },
          "execution_count": 39,
          "metadata": {},
          "output_type": "execute_result"
        }
      ],
      "source": [
        "# Si pasamos una lista de listas en numpy array, creamos un array multidimensional (matriz).\n",
        "b = np.array([[1,2,3],[4,5,6]])\n",
        "b"
      ]
    },
    {
      "cell_type": "code",
      "execution_count": null,
      "id": "3c698054",
      "metadata": {
        "id": "3c698054",
        "outputId": "307727b4-8a1d-4283-9e33-af410d89ec93"
      },
      "outputs": [
        {
          "data": {
            "text/plain": [
              "(2, 3)"
            ]
          },
          "execution_count": 40,
          "metadata": {},
          "output_type": "execute_result"
        }
      ],
      "source": [
        "b.shape #  Podemos imprimir la longitud de cada dimensión llamando al atributo shape, que devuelve una tupla"
      ]
    },
    {
      "cell_type": "code",
      "execution_count": null,
      "id": "3f38f5f9",
      "metadata": {
        "id": "3f38f5f9",
        "outputId": "ce2928a2-7982-4418-e370-1314b65c6a87"
      },
      "outputs": [
        {
          "data": {
            "text/plain": [
              "'float64'"
            ]
          },
          "execution_count": 41,
          "metadata": {},
          "output_type": "execute_result"
        }
      ],
      "source": [
        "c = np.array([2.2, 5, 1.1])\n",
        "c.dtype.name # Consultamos los tipos de datos dentro del arreglo"
      ]
    },
    {
      "cell_type": "markdown",
      "id": "b574d113",
      "metadata": {
        "id": "b574d113"
      },
      "source": [
        "Numpy convierte automáticamente enteros, como 5, a floats, ya que no hay pérdida de prescisión.\n",
        "Numpy intentará dar el mejor formato de tipo de datos posible para mantener los tipos de datos homogéneos, es decir, todos iguales, en el array"
      ]
    },
    {
      "cell_type": "code",
      "execution_count": null,
      "id": "ad3a7ffa",
      "metadata": {
        "id": "ad3a7ffa",
        "outputId": "cf576be5-b4c4-4ba7-e687-ff7d747b5fa6"
      },
      "outputs": [
        {
          "name": "stdout",
          "output_type": "stream",
          "text": [
            "[[0. 0. 0.]\n",
            " [0. 0. 0.]]\n",
            "[[1. 1. 1.]\n",
            " [1. 1. 1.]]\n",
            "[[0.25541162 0.80720668 0.84384455]\n",
            " [0.37350743 0.11830275 0.19017564]]\n"
          ]
        }
      ],
      "source": [
        "d = np.zeros((2,3)) # Podemos crear matrices llenas con ceros\n",
        "print(d)\n",
        "\n",
        "e = np.ones((2,3)) # O llenas con unos\n",
        "print(e)\n",
        "\n",
        "f = np.random.rand(2,3) # O con números aleatorios\n",
        "print(f)"
      ]
    },
    {
      "cell_type": "code",
      "execution_count": null,
      "id": "79475999",
      "metadata": {
        "id": "79475999",
        "outputId": "6c103667-479f-4790-9822-f707d2f6551b"
      },
      "outputs": [
        {
          "data": {
            "text/plain": [
              "array([10, 12, 14, 16, 18, 20, 22, 24, 26, 28, 30, 32, 34, 36, 38, 40, 42,\n",
              "       44, 46, 48])"
            ]
          },
          "execution_count": 45,
          "metadata": {},
          "output_type": "execute_result"
        }
      ],
      "source": [
        "# También podemos crear una secuencia de números en una matriz con la función arrange().\n",
        "# El primer argumento es el límite inicial, el segundo argumento es el límite final\n",
        "# y el tercer argumento es la diferencia entre cada número consecutivo.\n",
        "# Vamos a crear una matriz con todos los números pares desde el diez hasta el cincuenta\n",
        "f = np.arange(10, 50, 2)\n",
        "f"
      ]
    },
    {
      "cell_type": "markdown",
      "id": "ef39fe37",
      "metadata": {
        "id": "ef39fe37"
      },
      "source": [
        "Podemos hacer muchas cosas en arrays, como manipulación matemática (suma, resta, cuadrado, exponentes), así como usar matrices booleanas, que son valores binarios. También podemos hacer manipulación de matrices como producto, transposición, inversa, etc."
      ]
    },
    {
      "cell_type": "code",
      "execution_count": null,
      "id": "cdb6ea0d",
      "metadata": {
        "id": "cdb6ea0d",
        "outputId": "e9da1e7a-feab-4f33-c794-9d08bfab7e56"
      },
      "outputs": [
        {
          "name": "stdout",
          "output_type": "stream",
          "text": [
            "[[ 8.1 10.2 12.1]\n",
            " [14.4 16.2 18.3]]\n",
            "float64\n",
            "Suma: 79.3\n",
            "Maximo: 18.3\n",
            "Minimo: 8.1\n",
            "Media: 13.216666666666667\n"
          ]
        }
      ],
      "source": [
        "array1 = np.array([[1, 2, 3], [4, 5, 6]]) # Arreglo enteros\n",
        "array2 = np.array([[7.1, 8.2, 9.1], [10.4, 11.2, 12.3]]) # Arreglo floats\n",
        "\n",
        "array3=array1+array2 # Suma de arreglos\n",
        "print(array3)\n",
        "print(array3.dtype)\n",
        "\n",
        "print(\"Suma:\",array3.sum())\n",
        "print(\"Maximo:\",array3.max())\n",
        "print(\"Minimo:\",array3.min())\n",
        "print(\"Media:\",array3.mean())"
      ]
    },
    {
      "cell_type": "markdown",
      "id": "e5eb7085",
      "metadata": {
        "id": "e5eb7085"
      },
      "source": [
        "## Lectura y escritura de archivos CSV"
      ]
    },
    {
      "cell_type": "code",
      "execution_count": null,
      "id": "d9af8bf2",
      "metadata": {
        "id": "d9af8bf2",
        "outputId": "966a9e26-88ec-41be-dc5e-aea4a374a827"
      },
      "outputs": [
        {
          "data": {
            "text/plain": [
              "[{'State; \"Account Length\"; \"Area Code\"; \"Phone Number\"; \"Inter Plan\"; \"VoiceMail Plan\"; \"No of Vmail Mesgs\"; \"Total Day Min\"; \"Total Day calls\"; \"Total Day Charge\"; \"Total Evening Min\"; \"Total Evening Calls\"; \"Total Evening Charge\"; \"Total Night Minutes\"; \"Total Night Calls\"; \"Total Night Charge\"; \"Total Int Min\"; \"Total Int Calls\"; \"Total Int Charge\"; \"No of Calls Customer Service\"; \"Churn\"': 'OH   ;            107.0; \"A415\"     ; \"371-7191\"    ; \"no\"        ; \"yes\"           ;                26.0;           161.6;             123.0;              27.47;               195.5;                 103.0;                  16.62;                 254.4;               103.0;                11.45;            13.7;               3.0;               3.7 ;                            1.0; \"FALSE\"'},\n",
              " {'State; \"Account Length\"; \"Area Code\"; \"Phone Number\"; \"Inter Plan\"; \"VoiceMail Plan\"; \"No of Vmail Mesgs\"; \"Total Day Min\"; \"Total Day calls\"; \"Total Day Charge\"; \"Total Evening Min\"; \"Total Evening Calls\"; \"Total Evening Charge\"; \"Total Night Minutes\"; \"Total Night Calls\"; \"Total Night Charge\"; \"Total Int Min\"; \"Total Int Calls\"; \"Total Int Charge\"; \"No of Calls Customer Service\"; \"Churn\"': 'NJ   ;            137.0; \"A415\"     ; \"358-1921\"    ; \"no\"        ; \"no\"            ;                 0.0;           243.4;             114.0;              41.38;               121.2;                 110.0;                  10.3 ;                 162.6;               104.0;                 7.32;            12.2;               5.0;               3.29;                            0.0; \"FALSE\"'},\n",
              " {'State; \"Account Length\"; \"Area Code\"; \"Phone Number\"; \"Inter Plan\"; \"VoiceMail Plan\"; \"No of Vmail Mesgs\"; \"Total Day Min\"; \"Total Day calls\"; \"Total Day Charge\"; \"Total Evening Min\"; \"Total Evening Calls\"; \"Total Evening Charge\"; \"Total Night Minutes\"; \"Total Night Calls\"; \"Total Night Charge\"; \"Total Int Min\"; \"Total Int Calls\"; \"Total Int Charge\"; \"No of Calls Customer Service\"; \"Churn\"': 'OH   ;             84.0; \"A408\"     ; \"375-9999\"    ; \"yes\"       ; \"no\"            ;                 0.0;           299.4;              71.0;              50.9 ;                61.9;                  88.0;                   5.26;                 196.9;                89.0;                 8.86;             6.6;               7.0;               1.78;                            2.0; \"FALSE\"'}]"
            ]
          },
          "execution_count": 53,
          "metadata": {},
          "output_type": "execute_result"
        }
      ],
      "source": [
        "import csv\n",
        "\n",
        "with open('churn.csv') as csvfile:\n",
        "    churn = list(csv.DictReader(csvfile))\n",
        "\n",
        "churn[:3]  # Consultamos los tres primeros registros de la lista de diccionario"
      ]
    },
    {
      "cell_type": "code",
      "execution_count": null,
      "id": "d6d28ba5",
      "metadata": {
        "id": "d6d28ba5",
        "outputId": "6c88ee3f-0f5f-4540-b25b-1cd3f5939d2e"
      },
      "outputs": [
        {
          "data": {
            "text/plain": [
              "3333"
            ]
          },
          "execution_count": 54,
          "metadata": {},
          "output_type": "execute_result"
        }
      ],
      "source": [
        "len(churn) # Consultamos el numero de registros de nuestros diccionarios"
      ]
    },
    {
      "cell_type": "code",
      "execution_count": null,
      "id": "3c9f6751",
      "metadata": {
        "id": "3c9f6751",
        "outputId": "af7d2123-755b-4f77-a076-38be25fad86d"
      },
      "outputs": [
        {
          "data": {
            "text/plain": [
              "dict_keys(['State; \"Account Length\"; \"Area Code\"; \"Phone Number\"; \"Inter Plan\"; \"VoiceMail Plan\"; \"No of Vmail Mesgs\"; \"Total Day Min\"; \"Total Day calls\"; \"Total Day Charge\"; \"Total Evening Min\"; \"Total Evening Calls\"; \"Total Evening Charge\"; \"Total Night Minutes\"; \"Total Night Calls\"; \"Total Night Charge\"; \"Total Int Min\"; \"Total Int Calls\"; \"Total Int Charge\"; \"No of Calls Customer Service\"; \"Churn\"'])"
            ]
          },
          "execution_count": 55,
          "metadata": {},
          "output_type": "execute_result"
        }
      ],
      "source": [
        "churn[0].keys() # Consultamos las llaves de los diccionarios"
      ]
    },
    {
      "cell_type": "code",
      "execution_count": null,
      "id": "5da673ec",
      "metadata": {
        "id": "5da673ec",
        "outputId": "c8a440c0-17a7-46a9-f8b5-afc6917caef6"
      },
      "outputs": [
        {
          "data": {
            "text/plain": [
              "array([(nan, 107., nan, nan, nan, nan, 26., 161.6, 123., 27.47, 195.5, 103., 16.62, 254.4),\n",
              "       (nan, 137., nan, nan, nan, nan,  0., 243.4, 114., 41.38, 121.2, 110., 10.3 , 162.6),\n",
              "       (nan,  84., nan, nan, nan, nan,  0., 299.4,  71., 50.9 ,  61.9,  88.,  5.26, 196.9),\n",
              "       ...,\n",
              "       (nan, 184., nan, nan, nan, nan,  0., 213.8, 105., 36.35, 159.6,  84., 13.57, 139.2),\n",
              "       (nan,  74., nan, nan, nan, nan, 25., 234.4, 113., 39.85, 265.9,  82., 22.6 , 241.4),\n",
              "       (nan, 128., nan, nan, nan, nan, 25., 265.1, 110., 45.07, 197.4,  99., 16.78, 244.7)],\n",
              "      dtype=[('No_of_Vmail_Mesgs', '<f8'), ('Total_Day_Min', '<f8'), ('Total_Day_calls', '<f8'), ('Total_Day_Charge', '<f8'), ('Total_Evening_Min', '<f8'), ('Total_Evening_Calls', '<f8'), ('Total_Evening_Charge', '<f8'), ('Total_Night_Minutes', '<f8'), ('Total_Night_Calls', '<f8'), ('Total_Night_Charge', '<f8'), ('Total_Int_Min', '<f8'), ('Total_Int_Calls', '<f8'), ('Total_Int_Charge', '<f8'), ('No_of_Calls_Customer_Service', '<f8')])"
            ]
          },
          "execution_count": 49,
          "metadata": {},
          "output_type": "execute_result"
        }
      ],
      "source": [
        "churn = np.genfromtxt(\"churn.csv\", delimiter=\";\", skip_header=1,\n",
        "                                   names=(\"No of Vmail Mesgs\", \"Total Day Min\", \"Total Day calls\", \"Total Day Charge\",\n",
        "                                          \"Total Evening Min\", \"Total Evening Calls\", \"Total Evening Charge\",\n",
        "                                          \"Total Night Minutes\", \"Total Night Calls\", \"Total Night Charge\",\n",
        "                                          \"Total Int Min\", \"Total Int Calls\", \"Total Int Charge\", \"No of Calls Customer Service\"))\n",
        "churn"
      ]
    },
    {
      "cell_type": "markdown",
      "id": "d465e86b",
      "metadata": {
        "id": "d465e86b"
      },
      "source": [
        "## Series y DataFrames"
      ]
    },
    {
      "cell_type": "markdown",
      "id": "50d43d1e",
      "metadata": {
        "id": "50d43d1e"
      },
      "source": [
        "La serie es una de las estructuras de datos principales de pandas. Es un cruce entre una lista y un diccionario. Todos los elementos se almacenan en un orden y hay etiquetas para consultarlos. Una forma fácil de visualizar esto son dos columnas de datos. La primera es el índice especial (index), muy parecido a las claves de un diccionario. Mientras que la segunda son los datos reales. Es importante tener en cuenta que la columna de datos tiene una etiqueta propia y se puede recuperar utilizando el atributo. Esto es diferente que con los diccionarios y es útil cuando se trata de combinar varias columnas de datos."
      ]
    },
    {
      "cell_type": "code",
      "execution_count": null,
      "id": "6ef30b76",
      "metadata": {
        "id": "6ef30b76",
        "outputId": "71793521-d9dd-4387-8001-4e3f0dd26c14"
      },
      "outputs": [
        {
          "data": {
            "text/plain": [
              "Alice    Physics\n",
              "Molly    English\n",
              "Sam          NaN\n",
              "dtype: object"
            ]
          },
          "execution_count": 52,
          "metadata": {},
          "output_type": "execute_result"
        }
      ],
      "source": [
        "import pandas as pd\n",
        "\n",
        "students_scores = {'Alice': 'Physics',\n",
        "                   'Jack': 'Chemistry',\n",
        "                   'Molly': 'English'}\n",
        "\n",
        "s = pd.Series(students_scores, index=['Alice', 'Molly', 'Sam'])\n",
        "s"
      ]
    },
    {
      "cell_type": "markdown",
      "id": "a373ea30",
      "metadata": {
        "id": "a373ea30"
      },
      "source": [
        "Entonces, ¿qué pasa si su lista de valores en el objeto de índice no están alineados con las claves en su diccionario para la creación de la serie? Bueno, pandas ignorará de su diccionario todas las claves que no estén en su índice, y añadirá valores de tipo None o NaN para cualquier valor de índice que se proporcione y que no esté en la lista de claves de su diccionario."
      ]
    }
  ],
  "metadata": {
    "kernelspec": {
      "display_name": "Python 3",
      "language": "python",
      "name": "python3"
    },
    "language_info": {
      "codemirror_mode": {
        "name": "ipython",
        "version": 3
      },
      "file_extension": ".py",
      "mimetype": "text/x-python",
      "name": "python",
      "nbconvert_exporter": "python",
      "pygments_lexer": "ipython3",
      "version": "3.9.6"
    },
    "colab": {
      "provenance": [],
      "include_colab_link": true
    }
  },
  "nbformat": 4,
  "nbformat_minor": 5
}