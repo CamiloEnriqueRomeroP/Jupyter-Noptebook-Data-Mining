{
  "cells": [
    {
      "cell_type": "markdown",
      "id": "4bcee529",
      "metadata": {
        "colab_type": "text",
        "id": "view-in-github"
      },
      "source": [
        "<a href=\"https://colab.research.google.com/github/CamiloEnriqueRomeroP/Jupyter-Noptebook-Data-Mining/blob/main/Introduction-to-python/Introduction-to-python.ipynb\" target=\"_parent\"><img src=\"https://colab.research.google.com/assets/colab-badge.svg\" alt=\"Open In Colab\"/></a>"
      ]
    },
    {
      "cell_type": "markdown",
      "id": "781b8c79",
      "metadata": {
        "id": "781b8c79"
      },
      "source": [
        "# Introducción práctica a Python"
      ]
    },
    {
      "cell_type": "markdown",
      "id": "6fef0996",
      "metadata": {
        "id": "6fef0996"
      },
      "source": [
        "Python es un lenguaje de programación de alto nivel, interpretado y de propósito general, conocido por su sintaxis clara y sencilla que facilita la lectura y escritura del código. Fue creado por Guido van Rossum y es ampliamente utilizado en diversos campos como desarrollo web, análisis de datos, inteligencia artificial, automatización, y más. Su diseño enfatiza la legibilidad del código y permite a los programadores expresar conceptos en menos líneas que otros lenguajes como Java o C++. Además, cuenta con una gran comunidad y una vasta colección de bibliotecas que extienden su funcionalidad."
      ]
    },
    {
      "cell_type": "markdown",
      "id": "adbe459d",
      "metadata": {
        "id": "adbe459d"
      },
      "source": [
        "## Tipos de datos en Python\n",
        "\n",
        "En Python, los tipos de datos más comunes son:"
      ]
    },
    {
      "cell_type": "markdown",
      "id": "6e69bf59",
      "metadata": {
        "id": "6e69bf59"
      },
      "source": [
        "Enteros (int): números sin decimales (ej. 5)"
      ]
    },
    {
      "cell_type": "code",
      "execution_count": 43,
      "id": "a7cff72d",
      "metadata": {
        "colab": {
          "base_uri": "https://localhost:8080/"
        },
        "id": "a7cff72d",
        "outputId": "1a8ba236-697c-4f0c-8a25-4cdf84928e29"
      },
      "outputs": [
        {
          "data": {
            "text/plain": [
              "int"
            ]
          },
          "execution_count": 43,
          "metadata": {},
          "output_type": "execute_result"
        }
      ],
      "source": [
        "x = 5\n",
        "type(x)"
      ]
    },
    {
      "cell_type": "markdown",
      "id": "b58e3ae1",
      "metadata": {
        "id": "b58e3ae1"
      },
      "source": [
        "Flotantes (float): números con decimales (ej. 3.14)"
      ]
    },
    {
      "cell_type": "code",
      "execution_count": 44,
      "id": "cf41f9c6",
      "metadata": {
        "colab": {
          "base_uri": "https://localhost:8080/"
        },
        "id": "cf41f9c6",
        "outputId": "e194936f-9420-4c1b-fbbd-81a7f6eb606f"
      },
      "outputs": [
        {
          "data": {
            "text/plain": [
              "float"
            ]
          },
          "execution_count": 44,
          "metadata": {},
          "output_type": "execute_result"
        }
      ],
      "source": [
        "x = 3.14\n",
        "type(x)"
      ]
    },
    {
      "cell_type": "markdown",
      "id": "2dc60fed",
      "metadata": {
        "id": "2dc60fed"
      },
      "source": [
        "Cadenas (str): texto (ej. \"Hola\")"
      ]
    },
    {
      "cell_type": "code",
      "execution_count": 45,
      "id": "42ea9652",
      "metadata": {
        "colab": {
          "base_uri": "https://localhost:8080/"
        },
        "id": "42ea9652",
        "outputId": "aac0a13f-ca8f-4ca6-c3c1-540e809bbf26"
      },
      "outputs": [
        {
          "data": {
            "text/plain": [
              "str"
            ]
          },
          "execution_count": 45,
          "metadata": {},
          "output_type": "execute_result"
        }
      ],
      "source": [
        "x = 'Hola'\n",
        "type(x)"
      ]
    },
    {
      "cell_type": "markdown",
      "id": "b4fcbf4a",
      "metadata": {
        "id": "b4fcbf4a"
      },
      "source": [
        "Booleanos (bool): valores True o False"
      ]
    },
    {
      "cell_type": "code",
      "execution_count": 46,
      "id": "1070c4b7",
      "metadata": {
        "id": "1070c4b7",
        "outputId": "38c9548b-c5d5-4f85-aaef-127d873c2b02"
      },
      "outputs": [
        {
          "data": {
            "text/plain": [
              "bool"
            ]
          },
          "execution_count": 46,
          "metadata": {},
          "output_type": "execute_result"
        }
      ],
      "source": [
        "x = True\n",
        "type(x)"
      ]
    },
    {
      "cell_type": "markdown",
      "id": "615ac2ec",
      "metadata": {
        "id": "615ac2ec"
      },
      "source": [
        "Conjuntos (set): colecciones sin orden ni elementos repetidos (ej. {1, 2, 3})"
      ]
    },
    {
      "cell_type": "code",
      "execution_count": 47,
      "id": "aeb2dec7",
      "metadata": {
        "id": "aeb2dec7",
        "outputId": "abc8fbd1-9b7f-4672-c665-9b566e25586b"
      },
      "outputs": [
        {
          "data": {
            "text/plain": [
              "set"
            ]
          },
          "execution_count": 47,
          "metadata": {},
          "output_type": "execute_result"
        }
      ],
      "source": [
        "x = {1,2,3}\n",
        "type(x)"
      ]
    },
    {
      "cell_type": "markdown",
      "id": "8d40a7c1",
      "metadata": {
        "id": "8d40a7c1"
      },
      "source": [
        "### Tuplas"
      ]
    },
    {
      "cell_type": "markdown",
      "id": "e07d67bb",
      "metadata": {
        "id": "e07d67bb"
      },
      "source": [
        "Las tuplas son una estructura de datos inmutable (no se pueden alterar)."
      ]
    },
    {
      "cell_type": "code",
      "execution_count": 48,
      "id": "7dd208d2",
      "metadata": {
        "id": "7dd208d2",
        "outputId": "d23361ea-863d-42b8-ab3a-1e3383719aac"
      },
      "outputs": [
        {
          "data": {
            "text/plain": [
              "tuple"
            ]
          },
          "execution_count": 48,
          "metadata": {},
          "output_type": "execute_result"
        }
      ],
      "source": [
        "x = (1, 'a', 2, 'b')\n",
        "type(x)"
      ]
    },
    {
      "cell_type": "markdown",
      "id": "5000ae0a",
      "metadata": {
        "id": "5000ae0a"
      },
      "source": [
        "### Listas"
      ]
    },
    {
      "cell_type": "markdown",
      "id": "30ddd737",
      "metadata": {
        "id": "30ddd737"
      },
      "source": [
        "Las listas son una estructura de datos mutable."
      ]
    },
    {
      "cell_type": "code",
      "execution_count": 49,
      "id": "58ccd180",
      "metadata": {
        "id": "58ccd180",
        "outputId": "57345192-a182-4ee7-bd2f-b5a628dd3229"
      },
      "outputs": [
        {
          "data": {
            "text/plain": [
              "list"
            ]
          },
          "execution_count": 49,
          "metadata": {},
          "output_type": "execute_result"
        }
      ],
      "source": [
        "x = [1, 'a', 2, 'b']\n",
        "type(x)"
      ]
    },
    {
      "cell_type": "markdown",
      "id": "153fa46e",
      "metadata": {
        "id": "153fa46e"
      },
      "source": [
        "### Diccionarios"
      ]
    },
    {
      "cell_type": "markdown",
      "id": "bf995cec",
      "metadata": {
        "id": "bf995cec"
      },
      "source": [
        "Los diccionarios son similares a las listas y tuplas ya que contienen una colección de elementos, pero son colecciones etiquetadas que no tienen un orden. Esto significa que por cada valor que insertas en el diccionario, también debes dar una clave para sacar ese valor. En otros lenguajes la estructura suele llamarse mapa. Y en Python usamos llaves para denotar un diccionario. He aquí un ejemplo en el que podríamos relacionar nombres con direcciones de correo electrónico. Puede ver que indicamos cada elemento del diccionario al crearlo usando un par de valores separados por dos puntos. Luego puede recuperar un valor para una etiqueta dada utilizando el operador de indexación."
      ]
    },
    {
      "cell_type": "code",
      "execution_count": 50,
      "id": "e5cf2403",
      "metadata": {
        "id": "e5cf2403",
        "outputId": "68aa8be3-bb2b-4aea-8d93-4d34369140c9"
      },
      "outputs": [
        {
          "data": {
            "text/plain": [
              "'ceromero@unicauca.edu.co'"
            ]
          },
          "execution_count": 50,
          "metadata": {},
          "output_type": "execute_result"
        }
      ],
      "source": [
        "x = {'Camilo Romero': 'ceromero@unicauca.edu.co', 'Carlos Cobos': 'ccobos@unicauca.edu.co'}\n",
        "x['Camilo Romero']  # Recuperar un valor utilizando el operador de indexación"
      ]
    },
    {
      "cell_type": "markdown",
      "id": "66a81b7d",
      "metadata": {
        "id": "66a81b7d"
      },
      "source": [
        "Podemos iterar sobre todas las llaves:"
      ]
    },
    {
      "cell_type": "code",
      "execution_count": 52,
      "id": "7f58b754",
      "metadata": {
        "id": "7f58b754",
        "outputId": "0831f83f-3b09-4c28-b0b8-c55979ddeb17"
      },
      "outputs": [
        {
          "name": "stdout",
          "output_type": "stream",
          "text": [
            "ceromero@unicauca.edu.co\n",
            "ccobos@unicauca.edu.co\n"
          ]
        }
      ],
      "source": [
        "for name in x:\n",
        "    print(x[name])"
      ]
    },
    {
      "cell_type": "markdown",
      "id": "37461db6",
      "metadata": {
        "id": "37461db6"
      },
      "source": [
        "Y tambien sobre los valores:"
      ]
    },
    {
      "cell_type": "code",
      "execution_count": 53,
      "id": "7c5f39d0",
      "metadata": {
        "id": "7c5f39d0",
        "outputId": "d53bd9f0-341d-4f54-e69f-c5b3da5bc469"
      },
      "outputs": [
        {
          "name": "stdout",
          "output_type": "stream",
          "text": [
            "ceromero@unicauca.edu.co\n",
            "ccobos@unicauca.edu.co\n"
          ]
        }
      ],
      "source": [
        "for email in x.values():\n",
        "    print(email)"
      ]
    },
    {
      "cell_type": "markdown",
      "id": "b0317823",
      "metadata": {
        "id": "b0317823"
      },
      "source": [
        "O sobre cada item del diccionario:"
      ]
    },
    {
      "cell_type": "code",
      "execution_count": 54,
      "id": "a83c7581",
      "metadata": {
        "id": "a83c7581",
        "outputId": "b064050b-70a8-4935-949f-ef36e850a82a"
      },
      "outputs": [
        {
          "name": "stdout",
          "output_type": "stream",
          "text": [
            "Nombre: Camilo Romero , Correo: ceromero@unicauca.edu.co\n",
            "Nombre: Carlos Cobos , Correo: ccobos@unicauca.edu.co\n"
          ]
        }
      ],
      "source": [
        "for name, email in x.items():\n",
        "    print(\"Nombre:\",name,\", Correo:\",email)"
      ]
    },
    {
      "cell_type": "markdown",
      "id": "6e9e4aed",
      "metadata": {
        "id": "6e9e4aed"
      },
      "source": [
        "## Numpy"
      ]
    },
    {
      "cell_type": "markdown",
      "id": "4bd11de5",
      "metadata": {
        "id": "4bd11de5"
      },
      "source": [
        "Numpy es el paquete fundamental para la computación numérica con Python. Proporciona potentes formas de crear, almacenar y / o manipular datos, lo que hace que sea capaz de integrarse sin problemas y rápidamente con una amplia variedad de bases de datos. También es la base sobre la que se construye Pandas."
      ]
    },
    {
      "cell_type": "code",
      "execution_count": 55,
      "id": "db1bd8cf",
      "metadata": {
        "id": "db1bd8cf"
      },
      "outputs": [],
      "source": [
        "import numpy as np\n",
        "import math"
      ]
    },
    {
      "cell_type": "code",
      "execution_count": 57,
      "id": "379864a9",
      "metadata": {
        "id": "379864a9",
        "outputId": "7ae62dd1-ba60-4526-c2bc-8f3e8025b3c8"
      },
      "outputs": [
        {
          "name": "stdout",
          "output_type": "stream",
          "text": [
            "[1 2 3]\n",
            "1\n"
          ]
        }
      ],
      "source": [
        "# Los arrays (arreglos) se muestran como una lista o lista de listas y pueden crearse también a través de listas.\n",
        "# Al crear un array, pasamos una lista como argumento en numpy array\n",
        "a = np.array([1, 2, 3])\n",
        "print(a)\n",
        "print(a.ndim) # Mostramos el número de dimensiones"
      ]
    },
    {
      "cell_type": "code",
      "execution_count": 58,
      "id": "8ad9f052",
      "metadata": {
        "id": "8ad9f052",
        "outputId": "91251bd4-0bc1-492d-c3bc-29a31038e75c"
      },
      "outputs": [
        {
          "data": {
            "text/plain": [
              "array([[1, 2, 3],\n",
              "       [4, 5, 6]])"
            ]
          },
          "execution_count": 58,
          "metadata": {},
          "output_type": "execute_result"
        }
      ],
      "source": [
        "# Si pasamos una lista de listas en numpy array, creamos un array multidimensional (matriz).\n",
        "b = np.array([[1,2,3],[4,5,6]])\n",
        "b"
      ]
    },
    {
      "cell_type": "code",
      "execution_count": 59,
      "id": "3c698054",
      "metadata": {
        "id": "3c698054",
        "outputId": "307727b4-8a1d-4283-9e33-af410d89ec93"
      },
      "outputs": [
        {
          "data": {
            "text/plain": [
              "(2, 3)"
            ]
          },
          "execution_count": 59,
          "metadata": {},
          "output_type": "execute_result"
        }
      ],
      "source": [
        "b.shape #  Podemos imprimir la longitud de cada dimensión llamando al atributo shape, que devuelve una tupla"
      ]
    },
    {
      "cell_type": "code",
      "execution_count": 60,
      "id": "3f38f5f9",
      "metadata": {
        "id": "3f38f5f9",
        "outputId": "ce2928a2-7982-4418-e370-1314b65c6a87"
      },
      "outputs": [
        {
          "data": {
            "text/plain": [
              "'float64'"
            ]
          },
          "execution_count": 60,
          "metadata": {},
          "output_type": "execute_result"
        }
      ],
      "source": [
        "c = np.array([2.2, 5, 1.1])\n",
        "c.dtype.name # Consultamos los tipos de datos dentro del arreglo"
      ]
    },
    {
      "cell_type": "markdown",
      "id": "b574d113",
      "metadata": {
        "id": "b574d113"
      },
      "source": [
        "Numpy convierte automáticamente enteros, como 5, a floats, ya que no hay pérdida de prescisión.\n",
        "Numpy intentará dar el mejor formato de tipo de datos posible para mantener los tipos de datos homogéneos, es decir, todos iguales, en el array"
      ]
    },
    {
      "cell_type": "code",
      "execution_count": 61,
      "id": "ad3a7ffa",
      "metadata": {
        "id": "ad3a7ffa",
        "outputId": "cf576be5-b4c4-4ba7-e687-ff7d747b5fa6"
      },
      "outputs": [
        {
          "name": "stdout",
          "output_type": "stream",
          "text": [
            "[[0. 0. 0.]\n",
            " [0. 0. 0.]]\n",
            "[[1. 1. 1.]\n",
            " [1. 1. 1.]]\n",
            "[[0.37454012 0.95071431 0.73199394]\n",
            " [0.59865848 0.15601864 0.15599452]]\n"
          ]
        }
      ],
      "source": [
        "d = np.zeros((2,3)) # Podemos crear matrices llenas con ceros\n",
        "print(d)\n",
        "\n",
        "e = np.ones((2,3)) # O llenas con unos\n",
        "print(e)\n",
        "\n",
        "f = np.random.rand(2,3) # O con números aleatorios\n",
        "print(f)"
      ]
    },
    {
      "cell_type": "code",
      "execution_count": 18,
      "id": "79475999",
      "metadata": {
        "id": "79475999",
        "outputId": "6c103667-479f-4790-9822-f707d2f6551b"
      },
      "outputs": [
        {
          "data": {
            "text/plain": [
              "array([10, 12, 14, 16, 18, 20, 22, 24, 26, 28, 30, 32, 34, 36, 38, 40, 42,\n",
              "       44, 46, 48])"
            ]
          },
          "execution_count": 18,
          "metadata": {},
          "output_type": "execute_result"
        }
      ],
      "source": [
        "# También podemos crear una secuencia de números en una matriz con la función arrange().\n",
        "# El primer argumento es el límite inicial, el segundo argumento es el límite final\n",
        "# y el tercer argumento es la diferencia entre cada número consecutivo.\n",
        "# Vamos a crear una matriz con todos los números pares desde el diez hasta el cincuenta\n",
        "f = np.arange(10, 50, 2)\n",
        "f"
      ]
    },
    {
      "cell_type": "markdown",
      "id": "ef39fe37",
      "metadata": {
        "id": "ef39fe37"
      },
      "source": [
        "Podemos hacer muchas cosas en arrays, como manipulación matemática (suma, resta, cuadrado, exponentes), así como usar matrices booleanas, que son valores binarios. También podemos hacer manipulación de matrices como producto, transposición, inversa, etc."
      ]
    },
    {
      "cell_type": "code",
      "execution_count": 63,
      "id": "cdb6ea0d",
      "metadata": {
        "id": "cdb6ea0d",
        "outputId": "e9da1e7a-feab-4f33-c794-9d08bfab7e56"
      },
      "outputs": [
        {
          "name": "stdout",
          "output_type": "stream",
          "text": [
            "[[ 8.1 10.2 12.1]\n",
            " [14.4 16.2 18.3]]\n",
            "float64\n",
            "Suma: 79.3\n",
            "Maximo: 18.3\n",
            "Minimo: 8.1\n",
            "Media: 13.216666666666667\n"
          ]
        }
      ],
      "source": [
        "array1 = np.array([[1, 2, 3], [4, 5, 6]]) # Arreglo enteros\n",
        "array2 = np.array([[7.1, 8.2, 9.1], [10.4, 11.2, 12.3]]) # Arreglo floats\n",
        "\n",
        "array3=array1+array2 # Suma de arreglos\n",
        "print(array3)\n",
        "print(array3.dtype)\n",
        "\n",
        "print(\"Suma:\",array3.sum())\n",
        "print(\"Maximo:\",array3.max())\n",
        "print(\"Minimo:\",array3.min())\n",
        "print(\"Media:\",array3.mean())"
      ]
    },
    {
      "cell_type": "markdown",
      "id": "e5eb7085",
      "metadata": {
        "id": "e5eb7085"
      },
      "source": [
        "## Lectura y escritura de archivos CSV"
      ]
    },
    {
      "cell_type": "code",
      "execution_count": 20,
      "id": "d9af8bf2",
      "metadata": {
        "id": "d9af8bf2",
        "outputId": "966a9e26-88ec-41be-dc5e-aea4a374a827"
      },
      "outputs": [
        {
          "data": {
            "text/plain": [
              "[{'State; \"Account Length\"; \"Area Code\"; \"Phone Number\"; \"Inter Plan\"; \"VoiceMail Plan\"; \"No of Vmail Mesgs\"; \"Total Day Min\"; \"Total Day calls\"; \"Total Day Charge\"; \"Total Evening Min\"; \"Total Evening Calls\"; \"Total Evening Charge\"; \"Total Night Minutes\"; \"Total Night Calls\"; \"Total Night Charge\"; \"Total Int Min\"; \"Total Int Calls\"; \"Total Int Charge\"; \"No of Calls Customer Service\"; \"Churn\"': 'OH   ;            107.0; \"A415\"     ; \"371-7191\"    ; \"no\"        ; \"yes\"           ;                26.0;           161.6;             123.0;              27.47;               195.5;                 103.0;                  16.62;                 254.4;               103.0;                11.45;            13.7;               3.0;               3.7 ;                            1.0; \"FALSE\"'},\n",
              " {'State; \"Account Length\"; \"Area Code\"; \"Phone Number\"; \"Inter Plan\"; \"VoiceMail Plan\"; \"No of Vmail Mesgs\"; \"Total Day Min\"; \"Total Day calls\"; \"Total Day Charge\"; \"Total Evening Min\"; \"Total Evening Calls\"; \"Total Evening Charge\"; \"Total Night Minutes\"; \"Total Night Calls\"; \"Total Night Charge\"; \"Total Int Min\"; \"Total Int Calls\"; \"Total Int Charge\"; \"No of Calls Customer Service\"; \"Churn\"': 'NJ   ;            137.0; \"A415\"     ; \"358-1921\"    ; \"no\"        ; \"no\"            ;                 0.0;           243.4;             114.0;              41.38;               121.2;                 110.0;                  10.3 ;                 162.6;               104.0;                 7.32;            12.2;               5.0;               3.29;                            0.0; \"FALSE\"'},\n",
              " {'State; \"Account Length\"; \"Area Code\"; \"Phone Number\"; \"Inter Plan\"; \"VoiceMail Plan\"; \"No of Vmail Mesgs\"; \"Total Day Min\"; \"Total Day calls\"; \"Total Day Charge\"; \"Total Evening Min\"; \"Total Evening Calls\"; \"Total Evening Charge\"; \"Total Night Minutes\"; \"Total Night Calls\"; \"Total Night Charge\"; \"Total Int Min\"; \"Total Int Calls\"; \"Total Int Charge\"; \"No of Calls Customer Service\"; \"Churn\"': 'OH   ;             84.0; \"A408\"     ; \"375-9999\"    ; \"yes\"       ; \"no\"            ;                 0.0;           299.4;              71.0;              50.9 ;                61.9;                  88.0;                   5.26;                 196.9;                89.0;                 8.86;             6.6;               7.0;               1.78;                            2.0; \"FALSE\"'}]"
            ]
          },
          "execution_count": 20,
          "metadata": {},
          "output_type": "execute_result"
        }
      ],
      "source": [
        "import csv\n",
        "\n",
        "with open('churn.csv') as csvfile:\n",
        "    churn = list(csv.DictReader(csvfile))\n",
        "\n",
        "churn[:3]  # Consultamos los tres primeros registros de la lista de diccionario"
      ]
    },
    {
      "cell_type": "code",
      "execution_count": 21,
      "id": "d6d28ba5",
      "metadata": {
        "id": "d6d28ba5",
        "outputId": "6c88ee3f-0f5f-4540-b25b-1cd3f5939d2e"
      },
      "outputs": [
        {
          "data": {
            "text/plain": [
              "3333"
            ]
          },
          "execution_count": 21,
          "metadata": {},
          "output_type": "execute_result"
        }
      ],
      "source": [
        "len(churn) # Consultamos el numero de registros de nuestros diccionarios"
      ]
    },
    {
      "cell_type": "code",
      "execution_count": 22,
      "id": "3c9f6751",
      "metadata": {
        "id": "3c9f6751",
        "outputId": "af7d2123-755b-4f77-a076-38be25fad86d"
      },
      "outputs": [
        {
          "data": {
            "text/plain": [
              "dict_keys(['State; \"Account Length\"; \"Area Code\"; \"Phone Number\"; \"Inter Plan\"; \"VoiceMail Plan\"; \"No of Vmail Mesgs\"; \"Total Day Min\"; \"Total Day calls\"; \"Total Day Charge\"; \"Total Evening Min\"; \"Total Evening Calls\"; \"Total Evening Charge\"; \"Total Night Minutes\"; \"Total Night Calls\"; \"Total Night Charge\"; \"Total Int Min\"; \"Total Int Calls\"; \"Total Int Charge\"; \"No of Calls Customer Service\"; \"Churn\"'])"
            ]
          },
          "execution_count": 22,
          "metadata": {},
          "output_type": "execute_result"
        }
      ],
      "source": [
        "churn[0].keys() # Consultamos las llaves de los diccionarios"
      ]
    },
    {
      "cell_type": "code",
      "execution_count": 64,
      "id": "5da673ec",
      "metadata": {
        "id": "5da673ec",
        "outputId": "c8a440c0-17a7-46a9-f8b5-afc6917caef6"
      },
      "outputs": [
        {
          "data": {
            "text/plain": [
              "array([(nan, 107., nan, nan, nan, nan, 26., 161.6, 123., 27.47, 195.5, 103., 16.62, 254.4),\n",
              "       (nan, 137., nan, nan, nan, nan,  0., 243.4, 114., 41.38, 121.2, 110., 10.3 , 162.6),\n",
              "       (nan,  84., nan, nan, nan, nan,  0., 299.4,  71., 50.9 ,  61.9,  88.,  5.26, 196.9),\n",
              "       ...,\n",
              "       (nan, 184., nan, nan, nan, nan,  0., 213.8, 105., 36.35, 159.6,  84., 13.57, 139.2),\n",
              "       (nan,  74., nan, nan, nan, nan, 25., 234.4, 113., 39.85, 265.9,  82., 22.6 , 241.4),\n",
              "       (nan, 128., nan, nan, nan, nan, 25., 265.1, 110., 45.07, 197.4,  99., 16.78, 244.7)],\n",
              "      dtype=[('No_of_Vmail_Mesgs', '<f8'), ('Total_Day_Min', '<f8'), ('Total_Day_calls', '<f8'), ('Total_Day_Charge', '<f8'), ('Total_Evening_Min', '<f8'), ('Total_Evening_Calls', '<f8'), ('Total_Evening_Charge', '<f8'), ('Total_Night_Minutes', '<f8'), ('Total_Night_Calls', '<f8'), ('Total_Night_Charge', '<f8'), ('Total_Int_Min', '<f8'), ('Total_Int_Calls', '<f8'), ('Total_Int_Charge', '<f8'), ('No_of_Calls_Customer_Service', '<f8')])"
            ]
          },
          "execution_count": 64,
          "metadata": {},
          "output_type": "execute_result"
        }
      ],
      "source": [
        "churn = np.genfromtxt(\"churn.csv\", delimiter=\";\", skip_header=1,\n",
        "                                   names=(\"No of Vmail Mesgs\", \"Total Day Min\", \"Total Day calls\", \"Total Day Charge\",\n",
        "                                          \"Total Evening Min\", \"Total Evening Calls\", \"Total Evening Charge\",\n",
        "                                          \"Total Night Minutes\", \"Total Night Calls\", \"Total Night Charge\",\n",
        "                                          \"Total Int Min\", \"Total Int Calls\", \"Total Int Charge\", \"No of Calls Customer Service\"))\n",
        "churn"
      ]
    },
    {
      "cell_type": "markdown",
      "id": "d465e86b",
      "metadata": {
        "id": "d465e86b"
      },
      "source": [
        "## Series y DataFrames"
      ]
    },
    {
      "cell_type": "markdown",
      "id": "50d43d1e",
      "metadata": {
        "id": "50d43d1e"
      },
      "source": [
        "La serie es una de las estructuras de datos principales de pandas. Es un cruce entre una lista y un diccionario. Todos los elementos se almacenan en un orden y hay etiquetas para consultarlos. Una forma fácil de visualizar esto son dos columnas de datos. La primera es el índice especial (index), muy parecido a las claves de un diccionario, mientras que la segunda son los datos reales. Es importante tener en cuenta que la columna de datos tiene una etiqueta propia y se puede recuperar utilizando el atributo. Esto es diferente que con los diccionarios y es útil cuando se trata de combinar varias columnas de datos."
      ]
    },
    {
      "cell_type": "code",
      "execution_count": 65,
      "id": "6ef30b76",
      "metadata": {
        "id": "6ef30b76",
        "outputId": "71793521-d9dd-4387-8001-4e3f0dd26c14"
      },
      "outputs": [
        {
          "data": {
            "text/plain": [
              "Alice    Physics\n",
              "Molly    English\n",
              "Sam          NaN\n",
              "dtype: object"
            ]
          },
          "execution_count": 65,
          "metadata": {},
          "output_type": "execute_result"
        }
      ],
      "source": [
        "import pandas as pd\n",
        "\n",
        "students_scores = {'Alice': 'Physics',\n",
        "                   'Jack': 'Chemistry',\n",
        "                   'Molly': 'English'}\n",
        "\n",
        "s = pd.Series(students_scores, index=['Alice', 'Molly', 'Sam'])\n",
        "s"
      ]
    },
    {
      "cell_type": "markdown",
      "id": "a373ea30",
      "metadata": {
        "id": "a373ea30"
      },
      "source": [
        "Entonces, ¿qué pasa si su lista de valores en el objeto de índice no están alineados con las claves en su diccionario para la creación de la serie? Bueno, pandas ignorará de su diccionario todas las claves que no estén en su índice, y añadirá valores de tipo None o NaN para cualquier valor de índice que se proporcione y que no esté en la lista de claves de su diccionario."
      ]
    },
    {
      "cell_type": "markdown",
      "id": "aeb86b99",
      "metadata": {},
      "source": [
        "El DataFrame es conceptualmente un objeto serie bidimensional, donde hay un índice y múltiples columnas de contenido, con cada columna teniendo una etiqueta. De hecho, la distinción entre una columna y una fila es sólo conceptual. Y puede pensar en el propio DataFrame simplemente como una matriz de dos ejes etiquetados."
      ]
    },
    {
      "cell_type": "code",
      "execution_count": 80,
      "id": "c7a24ec1",
      "metadata": {},
      "outputs": [
        {
          "data": {
            "text/html": [
              "<div>\n",
              "<style scoped>\n",
              "    .dataframe tbody tr th:only-of-type {\n",
              "        vertical-align: middle;\n",
              "    }\n",
              "\n",
              "    .dataframe tbody tr th {\n",
              "        vertical-align: top;\n",
              "    }\n",
              "\n",
              "    .dataframe thead th {\n",
              "        text-align: right;\n",
              "    }\n",
              "</style>\n",
              "<table border=\"1\" class=\"dataframe\">\n",
              "  <thead>\n",
              "    <tr style=\"text-align: right;\">\n",
              "      <th></th>\n",
              "      <th>State</th>\n",
              "      <th>\"Account Length\"</th>\n",
              "      <th>\"Area Code\"</th>\n",
              "      <th>\"Phone Number\"</th>\n",
              "      <th>\"Inter Plan\"</th>\n",
              "      <th>\"VoiceMail Plan\"</th>\n",
              "      <th>\"No of Vmail Mesgs\"</th>\n",
              "      <th>\"Total Day Min\"</th>\n",
              "      <th>\"Total Day calls\"</th>\n",
              "      <th>\"Total Day Charge\"</th>\n",
              "      <th>...</th>\n",
              "      <th>\"Total Evening Calls\"</th>\n",
              "      <th>\"Total Evening Charge\"</th>\n",
              "      <th>\"Total Night Minutes\"</th>\n",
              "      <th>\"Total Night Calls\"</th>\n",
              "      <th>\"Total Night Charge\"</th>\n",
              "      <th>\"Total Int Min\"</th>\n",
              "      <th>\"Total Int Calls\"</th>\n",
              "      <th>\"Total Int Charge\"</th>\n",
              "      <th>\"No of Calls Customer Service\"</th>\n",
              "      <th>\"Churn\"</th>\n",
              "    </tr>\n",
              "  </thead>\n",
              "  <tbody>\n",
              "    <tr>\n",
              "      <th>0</th>\n",
              "      <td>OH</td>\n",
              "      <td>107.0</td>\n",
              "      <td>\"A415\"</td>\n",
              "      <td>\"371-7191\"</td>\n",
              "      <td>\"no\"</td>\n",
              "      <td>\"yes\"</td>\n",
              "      <td>26.0</td>\n",
              "      <td>161.6</td>\n",
              "      <td>123.0</td>\n",
              "      <td>27.47</td>\n",
              "      <td>...</td>\n",
              "      <td>103.0</td>\n",
              "      <td>16.62</td>\n",
              "      <td>254.4</td>\n",
              "      <td>103.0</td>\n",
              "      <td>11.45</td>\n",
              "      <td>13.7</td>\n",
              "      <td>3.0</td>\n",
              "      <td>3.70</td>\n",
              "      <td>1.0</td>\n",
              "      <td>\"FALSE\"</td>\n",
              "    </tr>\n",
              "    <tr>\n",
              "      <th>1</th>\n",
              "      <td>NJ</td>\n",
              "      <td>137.0</td>\n",
              "      <td>\"A415\"</td>\n",
              "      <td>\"358-1921\"</td>\n",
              "      <td>\"no\"</td>\n",
              "      <td>\"no\"</td>\n",
              "      <td>0.0</td>\n",
              "      <td>243.4</td>\n",
              "      <td>114.0</td>\n",
              "      <td>41.38</td>\n",
              "      <td>...</td>\n",
              "      <td>110.0</td>\n",
              "      <td>10.30</td>\n",
              "      <td>162.6</td>\n",
              "      <td>104.0</td>\n",
              "      <td>7.32</td>\n",
              "      <td>12.2</td>\n",
              "      <td>5.0</td>\n",
              "      <td>3.29</td>\n",
              "      <td>0.0</td>\n",
              "      <td>\"FALSE\"</td>\n",
              "    </tr>\n",
              "    <tr>\n",
              "      <th>2</th>\n",
              "      <td>OH</td>\n",
              "      <td>84.0</td>\n",
              "      <td>\"A408\"</td>\n",
              "      <td>\"375-9999\"</td>\n",
              "      <td>\"yes\"</td>\n",
              "      <td>\"no\"</td>\n",
              "      <td>0.0</td>\n",
              "      <td>299.4</td>\n",
              "      <td>71.0</td>\n",
              "      <td>50.90</td>\n",
              "      <td>...</td>\n",
              "      <td>88.0</td>\n",
              "      <td>5.26</td>\n",
              "      <td>196.9</td>\n",
              "      <td>89.0</td>\n",
              "      <td>8.86</td>\n",
              "      <td>6.6</td>\n",
              "      <td>7.0</td>\n",
              "      <td>1.78</td>\n",
              "      <td>2.0</td>\n",
              "      <td>\"FALSE\"</td>\n",
              "    </tr>\n",
              "    <tr>\n",
              "      <th>3</th>\n",
              "      <td>OK</td>\n",
              "      <td>75.0</td>\n",
              "      <td>\"A415\"</td>\n",
              "      <td>\"330-6626\"</td>\n",
              "      <td>\"yes\"</td>\n",
              "      <td>\"no\"</td>\n",
              "      <td>0.0</td>\n",
              "      <td>166.7</td>\n",
              "      <td>113.0</td>\n",
              "      <td>28.34</td>\n",
              "      <td>...</td>\n",
              "      <td>122.0</td>\n",
              "      <td>12.61</td>\n",
              "      <td>186.9</td>\n",
              "      <td>121.0</td>\n",
              "      <td>8.41</td>\n",
              "      <td>10.1</td>\n",
              "      <td>3.0</td>\n",
              "      <td>2.73</td>\n",
              "      <td>3.0</td>\n",
              "      <td>\"FALSE\"</td>\n",
              "    </tr>\n",
              "    <tr>\n",
              "      <th>4</th>\n",
              "      <td>AL</td>\n",
              "      <td>118.0</td>\n",
              "      <td>\"A510\"</td>\n",
              "      <td>\"391-8027\"</td>\n",
              "      <td>\"yes\"</td>\n",
              "      <td>\"no\"</td>\n",
              "      <td>0.0</td>\n",
              "      <td>223.4</td>\n",
              "      <td>98.0</td>\n",
              "      <td>37.98</td>\n",
              "      <td>...</td>\n",
              "      <td>101.0</td>\n",
              "      <td>18.75</td>\n",
              "      <td>203.9</td>\n",
              "      <td>118.0</td>\n",
              "      <td>9.18</td>\n",
              "      <td>6.3</td>\n",
              "      <td>6.0</td>\n",
              "      <td>1.70</td>\n",
              "      <td>0.0</td>\n",
              "      <td>\"FALSE\"</td>\n",
              "    </tr>\n",
              "  </tbody>\n",
              "</table>\n",
              "<p>5 rows × 21 columns</p>\n",
              "</div>"
            ],
            "text/plain": [
              "   State   \"Account Length\"   \"Area Code\"   \"Phone Number\"   \"Inter Plan\"  \\\n",
              "0  OH                 107.0   \"A415\"        \"371-7191\"       \"no\"           \n",
              "1  NJ                 137.0   \"A415\"        \"358-1921\"       \"no\"           \n",
              "2  OH                  84.0   \"A408\"        \"375-9999\"       \"yes\"          \n",
              "3  OK                  75.0   \"A415\"        \"330-6626\"       \"yes\"          \n",
              "4  AL                 118.0   \"A510\"        \"391-8027\"       \"yes\"          \n",
              "\n",
              "    \"VoiceMail Plan\"   \"No of Vmail Mesgs\"   \"Total Day Min\"  \\\n",
              "0   \"yes\"                             26.0             161.6   \n",
              "1   \"no\"                               0.0             243.4   \n",
              "2   \"no\"                               0.0             299.4   \n",
              "3   \"no\"                               0.0             166.7   \n",
              "4   \"no\"                               0.0             223.4   \n",
              "\n",
              "    \"Total Day calls\"   \"Total Day Charge\"  ...   \"Total Evening Calls\"  \\\n",
              "0               123.0                27.47  ...                   103.0   \n",
              "1               114.0                41.38  ...                   110.0   \n",
              "2                71.0                50.90  ...                    88.0   \n",
              "3               113.0                28.34  ...                   122.0   \n",
              "4                98.0                37.98  ...                   101.0   \n",
              "\n",
              "    \"Total Evening Charge\"   \"Total Night Minutes\"   \"Total Night Calls\"  \\\n",
              "0                    16.62                   254.4                 103.0   \n",
              "1                    10.30                   162.6                 104.0   \n",
              "2                     5.26                   196.9                  89.0   \n",
              "3                    12.61                   186.9                 121.0   \n",
              "4                    18.75                   203.9                 118.0   \n",
              "\n",
              "    \"Total Night Charge\"   \"Total Int Min\"   \"Total Int Calls\"  \\\n",
              "0                  11.45              13.7                 3.0   \n",
              "1                   7.32              12.2                 5.0   \n",
              "2                   8.86               6.6                 7.0   \n",
              "3                   8.41              10.1                 3.0   \n",
              "4                   9.18               6.3                 6.0   \n",
              "\n",
              "    \"Total Int Charge\"   \"No of Calls Customer Service\"   \"Churn\"  \n",
              "0                 3.70                              1.0   \"FALSE\"  \n",
              "1                 3.29                              0.0   \"FALSE\"  \n",
              "2                 1.78                              2.0   \"FALSE\"  \n",
              "3                 2.73                              3.0   \"FALSE\"  \n",
              "4                 1.70                              0.0   \"FALSE\"  \n",
              "\n",
              "[5 rows x 21 columns]"
            ]
          },
          "execution_count": 80,
          "metadata": {},
          "output_type": "execute_result"
        }
      ],
      "source": [
        "df = pd.read_csv('churn.csv', sep=';') # Leemos el csv y separamos las columnas por ;\n",
        "df.head() # El metodo head() nos permite imprimir las 5 primeras filas de nuestro DataFrame"
      ]
    },
    {
      "cell_type": "code",
      "execution_count": null,
      "id": "83827bb3",
      "metadata": {},
      "outputs": [
        {
          "data": {
            "text/plain": [
              "3333"
            ]
          },
          "execution_count": 40,
          "metadata": {},
          "output_type": "execute_result"
        }
      ],
      "source": [
        "len(df) #la funcion len(df) nos permite conocer el numero de registros del DataFrame"
      ]
    },
    {
      "cell_type": "markdown",
      "id": "6a814e1b",
      "metadata": {},
      "source": [
        "### Boolean mask"
      ]
    },
    {
      "cell_type": "code",
      "execution_count": 86,
      "id": "51c127f0",
      "metadata": {},
      "outputs": [
        {
          "data": {
            "text/plain": [
              "0       False\n",
              "1        True\n",
              "2        True\n",
              "3       False\n",
              "4        True\n",
              "        ...  \n",
              "3328     True\n",
              "3329    False\n",
              "3330     True\n",
              "3331     True\n",
              "3332     True\n",
              "Name:  \"Total Day Min\", Length: 3333, dtype: bool"
            ]
          },
          "execution_count": 86,
          "metadata": {},
          "output_type": "execute_result"
        }
      ],
      "source": [
        "# Una boolean mask es una lista o array de valores booleanos que se aplica sobre un DataFrame o Series \n",
        "# para seleccionar solo los elementos donde la condición es True.\n",
        "\n",
        "mascara = df[\" \\\"Total Day Min\\\"\"] > 200\n",
        "mascara"
      ]
    },
    {
      "cell_type": "code",
      "execution_count": null,
      "id": "5b09631b",
      "metadata": {},
      "outputs": [
        {
          "name": "stdout",
          "output_type": "stream",
          "text": [
            "      State   \"Account Length\"   \"Area Code\"   \"Phone Number\"   \"Inter Plan\"  \\\n",
            "1     NJ                 137.0   \"A415\"        \"358-1921\"       \"no\"           \n",
            "2     OH                  84.0   \"A408\"        \"375-9999\"       \"yes\"          \n",
            "4     AL                 118.0   \"A510\"        \"391-8027\"       \"yes\"          \n",
            "5     MA                 121.0   \"A510\"        \"355-9993\"       \"no\"           \n",
            "8     WV                 141.0   \"A415\"        \"330-8173\"       \"yes\"          \n",
            "...     ...                ...           ...              ...            ...   \n",
            "3321  MD                  62.0   \"A408\"        \"409-1856\"       \"no\"           \n",
            "3328  WV                  68.0   \"A415\"        \"370-3271\"       \"no\"           \n",
            "3330  CT                 184.0   \"A510\"        \"364-6381\"       \"yes\"          \n",
            "3331  TN                  74.0   \"A415\"        \"400-4344\"       \"no\"           \n",
            "3332  KS                 128.0   \"A415\"        \"382-4657\"       \"no\"           \n",
            "\n",
            "       \"VoiceMail Plan\"   \"No of Vmail Mesgs\"   \"Total Day Min\"  \\\n",
            "1      \"no\"                               0.0             243.4   \n",
            "2      \"no\"                               0.0             299.4   \n",
            "4      \"no\"                               0.0             223.4   \n",
            "5      \"yes\"                             24.0             218.2   \n",
            "8      \"yes\"                             37.0             258.6   \n",
            "...                 ...                   ...               ...   \n",
            "3321   \"no\"                               0.0             321.1   \n",
            "3328   \"no\"                               0.0             231.1   \n",
            "3330   \"no\"                               0.0             213.8   \n",
            "3331   \"yes\"                             25.0             234.4   \n",
            "3332   \"yes\"                             25.0             265.1   \n",
            "\n",
            "       \"Total Day calls\"   \"Total Day Charge\"  ...   \"Total Evening Calls\"  \\\n",
            "1                  114.0                41.38  ...                   110.0   \n",
            "2                   71.0                50.90  ...                    88.0   \n",
            "4                   98.0                37.98  ...                   101.0   \n",
            "5                   88.0                37.09  ...                   108.0   \n",
            "8                   84.0                43.96  ...                   111.0   \n",
            "...                  ...                  ...  ...                     ...   \n",
            "3321               105.0                54.59  ...                   122.0   \n",
            "3328                57.0                39.29  ...                    55.0   \n",
            "3330               105.0                36.35  ...                    84.0   \n",
            "3331               113.0                39.85  ...                    82.0   \n",
            "3332               110.0                45.07  ...                    99.0   \n",
            "\n",
            "       \"Total Evening Charge\"   \"Total Night Minutes\"   \"Total Night Calls\"  \\\n",
            "1                       10.30                   162.6                 104.0   \n",
            "2                        5.26                   196.9                  89.0   \n",
            "4                       18.75                   203.9                 118.0   \n",
            "5                       29.62                   212.6                 118.0   \n",
            "8                       18.87                   326.4                  97.0   \n",
            "...                       ...                     ...                   ...   \n",
            "3321                    22.57                   180.5                  72.0   \n",
            "3328                    13.04                   191.3                 123.0   \n",
            "3330                    13.57                   139.2                 137.0   \n",
            "3331                    22.60                   241.4                  77.0   \n",
            "3332                    16.78                   244.7                  91.0   \n",
            "\n",
            "       \"Total Night Charge\"   \"Total Int Min\"   \"Total Int Calls\"  \\\n",
            "1                      7.32              12.2                 5.0   \n",
            "2                      8.86               6.6                 7.0   \n",
            "4                      9.18               6.3                 6.0   \n",
            "5                      9.57               7.5                 7.0   \n",
            "8                     14.69              11.2                 5.0   \n",
            "...                     ...               ...                 ...   \n",
            "3321                   8.12              11.5                 2.0   \n",
            "3328                   8.61               9.6                 4.0   \n",
            "3330                   6.26               5.0                10.0   \n",
            "3331                  10.86              13.7                 4.0   \n",
            "3332                  11.01              10.0                 3.0   \n",
            "\n",
            "       \"Total Int Charge\"   \"No of Calls Customer Service\"   \"Churn\"  \n",
            "1                    3.29                              0.0   \"FALSE\"  \n",
            "2                    1.78                              2.0   \"FALSE\"  \n",
            "4                    1.70                              0.0   \"FALSE\"  \n",
            "5                    2.03                              3.0   \"FALSE\"  \n",
            "8                    3.02                              0.0   \"FALSE\"  \n",
            "...                   ...                              ...       ...  \n",
            "3321                 3.11                              4.0    \"TRUE\"  \n",
            "3328                 2.59                              3.0   \"FALSE\"  \n",
            "3330                 1.35                              2.0   \"FALSE\"  \n",
            "3331                 3.70                              0.0   \"FALSE\"  \n",
            "3332                 2.70                              1.0   \"FALSE\"  \n",
            "\n",
            "[1186 rows x 21 columns]\n"
          ]
        }
      ],
      "source": [
        "df_filtrado = df[mascara] # Al aplicar la mascara al DataFrame se muestran solamente los registros con valor True\n",
        "print(df_filtrado)"
      ]
    },
    {
      "cell_type": "markdown",
      "id": "ff2a3bf3",
      "metadata": {},
      "source": [
        "## Preparación de los datos"
      ]
    },
    {
      "cell_type": "markdown",
      "id": "3617de92",
      "metadata": {},
      "source": [
        "Cuando se presentan datos faltantes dentro del DataFrame existen varias maneras de afrontarlo:"
      ]
    },
    {
      "cell_type": "markdown",
      "id": "709ef9bf",
      "metadata": {},
      "source": [
        "### Eliminar filas con valores NaN\n",
        "Eliminar cualquier fila que tenga al menos un NaN:"
      ]
    },
    {
      "cell_type": "code",
      "execution_count": null,
      "id": "0db7a515",
      "metadata": {},
      "outputs": [],
      "source": [
        "df_clean = df.dropna() # Esta es la peor manera de proceder, ya que elimina todo el registro"
      ]
    },
    {
      "cell_type": "markdown",
      "id": "d94a9cdd",
      "metadata": {},
      "source": [
        "Eliminar solo si todos los valores de la fila son NaN:"
      ]
    },
    {
      "cell_type": "code",
      "execution_count": null,
      "id": "bcb7402c",
      "metadata": {},
      "outputs": [],
      "source": [
        "df_clean = df.dropna(how='all')"
      ]
    },
    {
      "cell_type": "markdown",
      "id": "3b42e38f",
      "metadata": {},
      "source": [
        "Eliminar filas solo si hay NaN en columnas específicas:"
      ]
    },
    {
      "cell_type": "code",
      "execution_count": null,
      "id": "20e85a27",
      "metadata": {},
      "outputs": [],
      "source": [
        "df_clean = df.dropna(subset=['columna1', 'columna2'])"
      ]
    },
    {
      "cell_type": "markdown",
      "id": "759e22da",
      "metadata": {},
      "source": [
        "### Reemplazar NaN con un valor fijo\n",
        "\n",
        "Reemplazar todos los NaN por un valor (por ejemplo, 0 o cadena vacía):"
      ]
    },
    {
      "cell_type": "code",
      "execution_count": null,
      "id": "ef60dd21",
      "metadata": {},
      "outputs": [],
      "source": [
        "df_filled = df.fillna(0)\n",
        "# o\n",
        "df_filled = df.fillna('')"
      ]
    },
    {
      "cell_type": "markdown",
      "id": "3c601d01",
      "metadata": {},
      "source": [
        "Reemplazar NaN por valores distintos por columna:"
      ]
    },
    {
      "cell_type": "code",
      "execution_count": null,
      "id": "5dc14339",
      "metadata": {},
      "outputs": [],
      "source": [
        "df_filled = df.fillna({'edad': 0, 'nombre': 'Desconocido'})"
      ]
    },
    {
      "cell_type": "markdown",
      "id": "73e73d03",
      "metadata": {},
      "source": [
        "### Llenar con valores estadísticos (media, mediana, etc.)\n",
        "\n",
        "Llenar con la media:"
      ]
    },
    {
      "cell_type": "code",
      "execution_count": null,
      "id": "c556beb2",
      "metadata": {},
      "outputs": [],
      "source": [
        "df['columna'] = df['columna'].fillna(df['columna'].mean())"
      ]
    },
    {
      "cell_type": "markdown",
      "id": "85a30f4d",
      "metadata": {},
      "source": [
        "Llenar con la mediana:"
      ]
    },
    {
      "cell_type": "code",
      "execution_count": null,
      "id": "dd17c59b",
      "metadata": {},
      "outputs": [],
      "source": [
        "df['columna'] = df['columna'].fillna(df['columna'].median())\n"
      ]
    },
    {
      "cell_type": "markdown",
      "id": "429a61aa",
      "metadata": {},
      "source": [
        "Llenar con la moda (valor más frecuente):"
      ]
    },
    {
      "cell_type": "code",
      "execution_count": null,
      "id": "fa099e18",
      "metadata": {},
      "outputs": [],
      "source": [
        "df['columna'] = df['columna'].fillna(df['columna'].mode()[0])"
      ]
    },
    {
      "cell_type": "markdown",
      "id": "ab7780f4",
      "metadata": {},
      "source": [
        "### Llenar hacia adelante o hacia atrás (útil en series temporales)"
      ]
    },
    {
      "cell_type": "code",
      "execution_count": null,
      "id": "5f672524",
      "metadata": {},
      "outputs": [],
      "source": [
        "df_filled = df.fillna(method='ffill') # Llenar con el valor anterior  - Forward\n",
        "df_filled = df.fillna(method='bfill') # Llenar con el valor siguiente - Backward"
      ]
    },
    {
      "cell_type": "markdown",
      "id": "9f39aa82",
      "metadata": {},
      "source": [
        "### Renombrar columnas"
      ]
    },
    {
      "cell_type": "code",
      "execution_count": 73,
      "id": "32d6079b",
      "metadata": {},
      "outputs": [],
      "source": [
        "df = pd.read_csv('churn.csv', sep=';')"
      ]
    },
    {
      "cell_type": "code",
      "execution_count": 67,
      "id": "df7e9fef",
      "metadata": {},
      "outputs": [
        {
          "data": {
            "text/plain": [
              "Index(['Estado', ' \"Account Length\"', ' \"Area Code\"', ' \"Phone Number\"',\n",
              "       ' \"Inter Plan\"', ' \"VoiceMail Plan\"', ' \"No of Vmail Mesgs\"',\n",
              "       ' \"Total Day Min\"', ' \"Total Day calls\"', ' \"Total Day Charge\"',\n",
              "       ' \"Total Evening Min\"', ' \"Total Evening Calls\"',\n",
              "       ' \"Total Evening Charge\"', ' \"Total Night Minutes\"',\n",
              "       ' \"Total Night Calls\"', ' \"Total Night Charge\"', ' \"Total Int Min\"',\n",
              "       ' \"Total Int Calls\"', ' \"Total Int Charge\"',\n",
              "       ' \"No of Calls Customer Service\"', ' \"Churn\"'],\n",
              "      dtype='object')"
            ]
          },
          "execution_count": 67,
          "metadata": {},
          "output_type": "execute_result"
        }
      ],
      "source": [
        "df_renombrado = df.rename(columns={'State': 'Estado'})\n",
        "df_renombrado.columns"
      ]
    },
    {
      "cell_type": "code",
      "execution_count": 74,
      "id": "4d69b19b",
      "metadata": {},
      "outputs": [
        {
          "data": {
            "text/plain": [
              "Index(['State', ' Account Length', ' Area Code', ' Phone Number',\n",
              "       ' Inter Plan', ' VoiceMail Plan', ' No of Vmail Mesgs',\n",
              "       ' Total Day Min', ' Total Day calls', ' Total Day Charge',\n",
              "       ' Total Evening Min', ' Total Evening Calls', ' Total Evening Charge',\n",
              "       ' Total Night Minutes', ' Total Night Calls', ' Total Night Charge',\n",
              "       ' Total Int Min', ' Total Int Calls', ' Total Int Charge',\n",
              "       ' No of Calls Customer Service', ' Churn'],\n",
              "      dtype='object')"
            ]
          },
          "execution_count": 74,
          "metadata": {},
          "output_type": "execute_result"
        }
      ],
      "source": [
        "# Regex es una herramienta de busqueda, extracción, reemplazo y validación de patrones en cadenas de texto. Para consultas basadas en expresiones regulares\n",
        "\n",
        "df.columns = df.columns.str.replace('\"', '', regex=False) # Elimino todas las comillas en los nombres\n",
        "df.columns"
      ]
    },
    {
      "cell_type": "code",
      "execution_count": 75,
      "id": "5c3c98ec",
      "metadata": {},
      "outputs": [
        {
          "data": {
            "text/plain": [
              "Index(['State', '_Account_Length', '_Area_Code', '_Phone_Number',\n",
              "       '_Inter_Plan', '_VoiceMail_Plan', '_No_of_Vmail_Mesgs',\n",
              "       '_Total_Day_Min', '_Total_Day_calls', '_Total_Day_Charge',\n",
              "       '_Total_Evening_Min', '_Total_Evening_Calls', '_Total_Evening_Charge',\n",
              "       '_Total_Night_Minutes', '_Total_Night_Calls', '_Total_Night_Charge',\n",
              "       '_Total_Int_Min', '_Total_Int_Calls', '_Total_Int_Charge',\n",
              "       '_No_of_Calls_Customer_Service', '_Churn'],\n",
              "      dtype='object')"
            ]
          },
          "execution_count": 75,
          "metadata": {},
          "output_type": "execute_result"
        }
      ],
      "source": [
        "df.columns = df.columns.str.replace(' ', '_', regex=False) # Cambio los espacios por _\n",
        "df.columns"
      ]
    },
    {
      "cell_type": "code",
      "execution_count": 76,
      "id": "d5eac992",
      "metadata": {},
      "outputs": [
        {
          "data": {
            "text/plain": [
              "Index(['State', 'Account_Length', 'Area_Code', 'Phone_Number', 'Inter_Plan',\n",
              "       'VoiceMail_Plan', 'No_of_Vmail_Mesgs', 'Total_Day_Min',\n",
              "       'Total_Day_calls', 'Total_Day_Charge', 'Total_Evening_Min',\n",
              "       'Total_Evening_Calls', 'Total_Evening_Charge', 'Total_Night_Minutes',\n",
              "       'Total_Night_Calls', 'Total_Night_Charge', 'Total_Int_Min',\n",
              "       'Total_Int_Calls', 'Total_Int_Charge', 'No_of_Calls_Customer_Service',\n",
              "       'Churn'],\n",
              "      dtype='object')"
            ]
          },
          "execution_count": 76,
          "metadata": {},
          "output_type": "execute_result"
        }
      ],
      "source": [
        "\n",
        "df.columns = df.columns.str.replace(r'^_+', '', regex=True) # Elimino el _ que aparece al inicio del nombre\n",
        "df.columns"
      ]
    },
    {
      "cell_type": "markdown",
      "id": "6fe87e04",
      "metadata": {},
      "source": [
        "### Eliminación de columnas\n",
        "\n",
        "Antes de continuar volvamos a cargar nuestro data set y llegar hasta este punto, en caso de presentarse algún error"
      ]
    },
    {
      "cell_type": "code",
      "execution_count": 78,
      "id": "6e9e25f7",
      "metadata": {},
      "outputs": [
        {
          "data": {
            "text/html": [
              "<div>\n",
              "<style scoped>\n",
              "    .dataframe tbody tr th:only-of-type {\n",
              "        vertical-align: middle;\n",
              "    }\n",
              "\n",
              "    .dataframe tbody tr th {\n",
              "        vertical-align: top;\n",
              "    }\n",
              "\n",
              "    .dataframe thead th {\n",
              "        text-align: right;\n",
              "    }\n",
              "</style>\n",
              "<table border=\"1\" class=\"dataframe\">\n",
              "  <thead>\n",
              "    <tr style=\"text-align: right;\">\n",
              "      <th></th>\n",
              "      <th>Account_Length</th>\n",
              "      <th>Phone_Number</th>\n",
              "      <th>Inter_Plan</th>\n",
              "      <th>VoiceMail_Plan</th>\n",
              "      <th>No_of_Vmail_Mesgs</th>\n",
              "      <th>Total_Day_Min</th>\n",
              "      <th>Total_Day_calls</th>\n",
              "      <th>Total_Day_Charge</th>\n",
              "      <th>Total_Evening_Min</th>\n",
              "      <th>Total_Evening_Calls</th>\n",
              "      <th>Total_Evening_Charge</th>\n",
              "      <th>Total_Night_Minutes</th>\n",
              "      <th>Total_Night_Calls</th>\n",
              "      <th>Total_Night_Charge</th>\n",
              "      <th>Total_Int_Min</th>\n",
              "      <th>Total_Int_Calls</th>\n",
              "      <th>Total_Int_Charge</th>\n",
              "      <th>No_of_Calls_Customer_Service</th>\n",
              "      <th>Churn</th>\n",
              "    </tr>\n",
              "  </thead>\n",
              "  <tbody>\n",
              "    <tr>\n",
              "      <th>0</th>\n",
              "      <td>107.0</td>\n",
              "      <td>\"371-7191\"</td>\n",
              "      <td>\"no\"</td>\n",
              "      <td>\"yes\"</td>\n",
              "      <td>26.0</td>\n",
              "      <td>161.6</td>\n",
              "      <td>123.0</td>\n",
              "      <td>27.47</td>\n",
              "      <td>195.5</td>\n",
              "      <td>103.0</td>\n",
              "      <td>16.62</td>\n",
              "      <td>254.4</td>\n",
              "      <td>103.0</td>\n",
              "      <td>11.45</td>\n",
              "      <td>13.7</td>\n",
              "      <td>3.0</td>\n",
              "      <td>3.70</td>\n",
              "      <td>1.0</td>\n",
              "      <td>\"FALSE\"</td>\n",
              "    </tr>\n",
              "    <tr>\n",
              "      <th>1</th>\n",
              "      <td>137.0</td>\n",
              "      <td>\"358-1921\"</td>\n",
              "      <td>\"no\"</td>\n",
              "      <td>\"no\"</td>\n",
              "      <td>0.0</td>\n",
              "      <td>243.4</td>\n",
              "      <td>114.0</td>\n",
              "      <td>41.38</td>\n",
              "      <td>121.2</td>\n",
              "      <td>110.0</td>\n",
              "      <td>10.30</td>\n",
              "      <td>162.6</td>\n",
              "      <td>104.0</td>\n",
              "      <td>7.32</td>\n",
              "      <td>12.2</td>\n",
              "      <td>5.0</td>\n",
              "      <td>3.29</td>\n",
              "      <td>0.0</td>\n",
              "      <td>\"FALSE\"</td>\n",
              "    </tr>\n",
              "    <tr>\n",
              "      <th>2</th>\n",
              "      <td>84.0</td>\n",
              "      <td>\"375-9999\"</td>\n",
              "      <td>\"yes\"</td>\n",
              "      <td>\"no\"</td>\n",
              "      <td>0.0</td>\n",
              "      <td>299.4</td>\n",
              "      <td>71.0</td>\n",
              "      <td>50.90</td>\n",
              "      <td>61.9</td>\n",
              "      <td>88.0</td>\n",
              "      <td>5.26</td>\n",
              "      <td>196.9</td>\n",
              "      <td>89.0</td>\n",
              "      <td>8.86</td>\n",
              "      <td>6.6</td>\n",
              "      <td>7.0</td>\n",
              "      <td>1.78</td>\n",
              "      <td>2.0</td>\n",
              "      <td>\"FALSE\"</td>\n",
              "    </tr>\n",
              "    <tr>\n",
              "      <th>3</th>\n",
              "      <td>75.0</td>\n",
              "      <td>\"330-6626\"</td>\n",
              "      <td>\"yes\"</td>\n",
              "      <td>\"no\"</td>\n",
              "      <td>0.0</td>\n",
              "      <td>166.7</td>\n",
              "      <td>113.0</td>\n",
              "      <td>28.34</td>\n",
              "      <td>148.3</td>\n",
              "      <td>122.0</td>\n",
              "      <td>12.61</td>\n",
              "      <td>186.9</td>\n",
              "      <td>121.0</td>\n",
              "      <td>8.41</td>\n",
              "      <td>10.1</td>\n",
              "      <td>3.0</td>\n",
              "      <td>2.73</td>\n",
              "      <td>3.0</td>\n",
              "      <td>\"FALSE\"</td>\n",
              "    </tr>\n",
              "    <tr>\n",
              "      <th>4</th>\n",
              "      <td>118.0</td>\n",
              "      <td>\"391-8027\"</td>\n",
              "      <td>\"yes\"</td>\n",
              "      <td>\"no\"</td>\n",
              "      <td>0.0</td>\n",
              "      <td>223.4</td>\n",
              "      <td>98.0</td>\n",
              "      <td>37.98</td>\n",
              "      <td>220.6</td>\n",
              "      <td>101.0</td>\n",
              "      <td>18.75</td>\n",
              "      <td>203.9</td>\n",
              "      <td>118.0</td>\n",
              "      <td>9.18</td>\n",
              "      <td>6.3</td>\n",
              "      <td>6.0</td>\n",
              "      <td>1.70</td>\n",
              "      <td>0.0</td>\n",
              "      <td>\"FALSE\"</td>\n",
              "    </tr>\n",
              "  </tbody>\n",
              "</table>\n",
              "</div>"
            ],
            "text/plain": [
              "   Account_Length     Phone_Number     Inter_Plan     VoiceMail_Plan  \\\n",
              "0           107.0   \"371-7191\"       \"no\"           \"yes\"              \n",
              "1           137.0   \"358-1921\"       \"no\"           \"no\"               \n",
              "2            84.0   \"375-9999\"       \"yes\"          \"no\"               \n",
              "3            75.0   \"330-6626\"       \"yes\"          \"no\"               \n",
              "4           118.0   \"391-8027\"       \"yes\"          \"no\"               \n",
              "\n",
              "   No_of_Vmail_Mesgs  Total_Day_Min  Total_Day_calls  Total_Day_Charge  \\\n",
              "0               26.0          161.6            123.0             27.47   \n",
              "1                0.0          243.4            114.0             41.38   \n",
              "2                0.0          299.4             71.0             50.90   \n",
              "3                0.0          166.7            113.0             28.34   \n",
              "4                0.0          223.4             98.0             37.98   \n",
              "\n",
              "   Total_Evening_Min  Total_Evening_Calls  Total_Evening_Charge  \\\n",
              "0              195.5                103.0                 16.62   \n",
              "1              121.2                110.0                 10.30   \n",
              "2               61.9                 88.0                  5.26   \n",
              "3              148.3                122.0                 12.61   \n",
              "4              220.6                101.0                 18.75   \n",
              "\n",
              "   Total_Night_Minutes  Total_Night_Calls  Total_Night_Charge  Total_Int_Min  \\\n",
              "0                254.4              103.0               11.45           13.7   \n",
              "1                162.6              104.0                7.32           12.2   \n",
              "2                196.9               89.0                8.86            6.6   \n",
              "3                186.9              121.0                8.41           10.1   \n",
              "4                203.9              118.0                9.18            6.3   \n",
              "\n",
              "   Total_Int_Calls  Total_Int_Charge  No_of_Calls_Customer_Service     Churn  \n",
              "0              3.0              3.70                           1.0   \"FALSE\"  \n",
              "1              5.0              3.29                           0.0   \"FALSE\"  \n",
              "2              7.0              1.78                           2.0   \"FALSE\"  \n",
              "3              3.0              2.73                           3.0   \"FALSE\"  \n",
              "4              6.0              1.70                           0.0   \"FALSE\"  "
            ]
          },
          "execution_count": 78,
          "metadata": {},
          "output_type": "execute_result"
        }
      ],
      "source": [
        "df = pd.read_csv('churn.csv', sep=';')\n",
        "df.columns = (\n",
        "    df.columns\n",
        "    .str.strip()                         # Elimina espacios alrededor\n",
        "    .str.replace(' ', '_', regex=False) # Reemplaza espacios por _\n",
        "    .str.replace(r'^_+', '', regex=True)# Elimina _ al inicio\n",
        "    .str.replace('\"', '', regex=False)\n",
        ")\n",
        "df.drop({\"State\",\"Area_Code\"}, axis=1, inplace=True) # Eliminamos la columna con drop, axis=1 → columnas\n",
        "# inplace nos permite almacenar el estado actual del df sin necesidad de decir df = ...\n",
        "df.head()"
      ]
    },
    {
      "cell_type": "markdown",
      "id": "6bd97033",
      "metadata": {},
      "source": [
        "### Mapear valores"
      ]
    },
    {
      "cell_type": "markdown",
      "id": "083b015c",
      "metadata": {},
      "source": [
        "Para el caso del ejemplo vamos a reemplazar en las columnas Inter_Plan y VoiceMail_Plan los valores de \"yes\" a 1 y de \"no\" a 0.\n",
        "\n",
        "Pero antes es necesario asegurarnos de que las comillas desaparezcan"
      ]
    },
    {
      "cell_type": "code",
      "execution_count": 132,
      "id": "4705e72c",
      "metadata": {},
      "outputs": [
        {
          "data": {
            "text/html": [
              "<div>\n",
              "<style scoped>\n",
              "    .dataframe tbody tr th:only-of-type {\n",
              "        vertical-align: middle;\n",
              "    }\n",
              "\n",
              "    .dataframe tbody tr th {\n",
              "        vertical-align: top;\n",
              "    }\n",
              "\n",
              "    .dataframe thead th {\n",
              "        text-align: right;\n",
              "    }\n",
              "</style>\n",
              "<table border=\"1\" class=\"dataframe\">\n",
              "  <thead>\n",
              "    <tr style=\"text-align: right;\">\n",
              "      <th></th>\n",
              "      <th>Account_Length</th>\n",
              "      <th>Phone_Number</th>\n",
              "      <th>Inter_Plan</th>\n",
              "      <th>VoiceMail_Plan</th>\n",
              "      <th>No_of_Vmail_Mesgs</th>\n",
              "      <th>Total_Day_Min</th>\n",
              "      <th>Total_Day_calls</th>\n",
              "      <th>Total_Day_Charge</th>\n",
              "      <th>Total_Evening_Min</th>\n",
              "      <th>Total_Evening_Calls</th>\n",
              "      <th>Total_Evening_Charge</th>\n",
              "      <th>Total_Night_Minutes</th>\n",
              "      <th>Total_Night_Calls</th>\n",
              "      <th>Total_Night_Charge</th>\n",
              "      <th>Total_Int_Min</th>\n",
              "      <th>Total_Int_Calls</th>\n",
              "      <th>Total_Int_Charge</th>\n",
              "      <th>No_of_Calls_Customer_Service</th>\n",
              "      <th>Churn</th>\n",
              "    </tr>\n",
              "  </thead>\n",
              "  <tbody>\n",
              "    <tr>\n",
              "      <th>0</th>\n",
              "      <td>107.0</td>\n",
              "      <td>\"371-7191\"</td>\n",
              "      <td>no</td>\n",
              "      <td>yes</td>\n",
              "      <td>26.0</td>\n",
              "      <td>161.6</td>\n",
              "      <td>123.0</td>\n",
              "      <td>27.47</td>\n",
              "      <td>195.5</td>\n",
              "      <td>103.0</td>\n",
              "      <td>16.62</td>\n",
              "      <td>254.4</td>\n",
              "      <td>103.0</td>\n",
              "      <td>11.45</td>\n",
              "      <td>13.7</td>\n",
              "      <td>3.0</td>\n",
              "      <td>3.70</td>\n",
              "      <td>1.0</td>\n",
              "      <td>\"FALSE\"</td>\n",
              "    </tr>\n",
              "    <tr>\n",
              "      <th>1</th>\n",
              "      <td>137.0</td>\n",
              "      <td>\"358-1921\"</td>\n",
              "      <td>no</td>\n",
              "      <td>no</td>\n",
              "      <td>0.0</td>\n",
              "      <td>243.4</td>\n",
              "      <td>114.0</td>\n",
              "      <td>41.38</td>\n",
              "      <td>121.2</td>\n",
              "      <td>110.0</td>\n",
              "      <td>10.30</td>\n",
              "      <td>162.6</td>\n",
              "      <td>104.0</td>\n",
              "      <td>7.32</td>\n",
              "      <td>12.2</td>\n",
              "      <td>5.0</td>\n",
              "      <td>3.29</td>\n",
              "      <td>0.0</td>\n",
              "      <td>\"FALSE\"</td>\n",
              "    </tr>\n",
              "    <tr>\n",
              "      <th>2</th>\n",
              "      <td>84.0</td>\n",
              "      <td>\"375-9999\"</td>\n",
              "      <td>yes</td>\n",
              "      <td>no</td>\n",
              "      <td>0.0</td>\n",
              "      <td>299.4</td>\n",
              "      <td>71.0</td>\n",
              "      <td>50.90</td>\n",
              "      <td>61.9</td>\n",
              "      <td>88.0</td>\n",
              "      <td>5.26</td>\n",
              "      <td>196.9</td>\n",
              "      <td>89.0</td>\n",
              "      <td>8.86</td>\n",
              "      <td>6.6</td>\n",
              "      <td>7.0</td>\n",
              "      <td>1.78</td>\n",
              "      <td>2.0</td>\n",
              "      <td>\"FALSE\"</td>\n",
              "    </tr>\n",
              "    <tr>\n",
              "      <th>3</th>\n",
              "      <td>75.0</td>\n",
              "      <td>\"330-6626\"</td>\n",
              "      <td>yes</td>\n",
              "      <td>no</td>\n",
              "      <td>0.0</td>\n",
              "      <td>166.7</td>\n",
              "      <td>113.0</td>\n",
              "      <td>28.34</td>\n",
              "      <td>148.3</td>\n",
              "      <td>122.0</td>\n",
              "      <td>12.61</td>\n",
              "      <td>186.9</td>\n",
              "      <td>121.0</td>\n",
              "      <td>8.41</td>\n",
              "      <td>10.1</td>\n",
              "      <td>3.0</td>\n",
              "      <td>2.73</td>\n",
              "      <td>3.0</td>\n",
              "      <td>\"FALSE\"</td>\n",
              "    </tr>\n",
              "    <tr>\n",
              "      <th>4</th>\n",
              "      <td>118.0</td>\n",
              "      <td>\"391-8027\"</td>\n",
              "      <td>yes</td>\n",
              "      <td>no</td>\n",
              "      <td>0.0</td>\n",
              "      <td>223.4</td>\n",
              "      <td>98.0</td>\n",
              "      <td>37.98</td>\n",
              "      <td>220.6</td>\n",
              "      <td>101.0</td>\n",
              "      <td>18.75</td>\n",
              "      <td>203.9</td>\n",
              "      <td>118.0</td>\n",
              "      <td>9.18</td>\n",
              "      <td>6.3</td>\n",
              "      <td>6.0</td>\n",
              "      <td>1.70</td>\n",
              "      <td>0.0</td>\n",
              "      <td>\"FALSE\"</td>\n",
              "    </tr>\n",
              "  </tbody>\n",
              "</table>\n",
              "</div>"
            ],
            "text/plain": [
              "   Account_Length     Phone_Number Inter_Plan VoiceMail_Plan  \\\n",
              "0           107.0   \"371-7191\"             no            yes   \n",
              "1           137.0   \"358-1921\"             no             no   \n",
              "2            84.0   \"375-9999\"            yes             no   \n",
              "3            75.0   \"330-6626\"            yes             no   \n",
              "4           118.0   \"391-8027\"            yes             no   \n",
              "\n",
              "   No_of_Vmail_Mesgs  Total_Day_Min  Total_Day_calls  Total_Day_Charge  \\\n",
              "0               26.0          161.6            123.0             27.47   \n",
              "1                0.0          243.4            114.0             41.38   \n",
              "2                0.0          299.4             71.0             50.90   \n",
              "3                0.0          166.7            113.0             28.34   \n",
              "4                0.0          223.4             98.0             37.98   \n",
              "\n",
              "   Total_Evening_Min  Total_Evening_Calls  Total_Evening_Charge  \\\n",
              "0              195.5                103.0                 16.62   \n",
              "1              121.2                110.0                 10.30   \n",
              "2               61.9                 88.0                  5.26   \n",
              "3              148.3                122.0                 12.61   \n",
              "4              220.6                101.0                 18.75   \n",
              "\n",
              "   Total_Night_Minutes  Total_Night_Calls  Total_Night_Charge  Total_Int_Min  \\\n",
              "0                254.4              103.0               11.45           13.7   \n",
              "1                162.6              104.0                7.32           12.2   \n",
              "2                196.9               89.0                8.86            6.6   \n",
              "3                186.9              121.0                8.41           10.1   \n",
              "4                203.9              118.0                9.18            6.3   \n",
              "\n",
              "   Total_Int_Calls  Total_Int_Charge  No_of_Calls_Customer_Service     Churn  \n",
              "0              3.0              3.70                           1.0   \"FALSE\"  \n",
              "1              5.0              3.29                           0.0   \"FALSE\"  \n",
              "2              7.0              1.78                           2.0   \"FALSE\"  \n",
              "3              3.0              2.73                           3.0   \"FALSE\"  \n",
              "4              6.0              1.70                           0.0   \"FALSE\"  "
            ]
          },
          "execution_count": 132,
          "metadata": {},
          "output_type": "execute_result"
        }
      ],
      "source": [
        "df['VoiceMail_Plan'] = df['VoiceMail_Plan'].str.strip()\n",
        "df['VoiceMail_Plan'] = df['VoiceMail_Plan'].str.replace('\"', '', regex=False)\n",
        "df['Inter_Plan'] = df['Inter_Plan'].str.strip()\n",
        "df['Inter_Plan'] = df['Inter_Plan'].str.replace('\"', '', regex=False)\n",
        "\n",
        "df.head()"
      ]
    },
    {
      "cell_type": "markdown",
      "id": "8d8759ed",
      "metadata": {},
      "source": [
        "Mediante una funcion lambda podemos aplicar este mismo proceso a todo el df en una unica linea"
      ]
    },
    {
      "cell_type": "code",
      "execution_count": 139,
      "id": "11f24459",
      "metadata": {},
      "outputs": [
        {
          "data": {
            "text/html": [
              "<div>\n",
              "<style scoped>\n",
              "    .dataframe tbody tr th:only-of-type {\n",
              "        vertical-align: middle;\n",
              "    }\n",
              "\n",
              "    .dataframe tbody tr th {\n",
              "        vertical-align: top;\n",
              "    }\n",
              "\n",
              "    .dataframe thead th {\n",
              "        text-align: right;\n",
              "    }\n",
              "</style>\n",
              "<table border=\"1\" class=\"dataframe\">\n",
              "  <thead>\n",
              "    <tr style=\"text-align: right;\">\n",
              "      <th></th>\n",
              "      <th>Account_Length</th>\n",
              "      <th>Phone_Number</th>\n",
              "      <th>Inter_Plan</th>\n",
              "      <th>VoiceMail_Plan</th>\n",
              "      <th>No_of_Vmail_Mesgs</th>\n",
              "      <th>Total_Day_Min</th>\n",
              "      <th>Total_Day_calls</th>\n",
              "      <th>Total_Day_Charge</th>\n",
              "      <th>Total_Evening_Min</th>\n",
              "      <th>Total_Evening_Calls</th>\n",
              "      <th>Total_Evening_Charge</th>\n",
              "      <th>Total_Night_Minutes</th>\n",
              "      <th>Total_Night_Calls</th>\n",
              "      <th>Total_Night_Charge</th>\n",
              "      <th>Total_Int_Min</th>\n",
              "      <th>Total_Int_Calls</th>\n",
              "      <th>Total_Int_Charge</th>\n",
              "      <th>No_of_Calls_Customer_Service</th>\n",
              "      <th>Churn</th>\n",
              "    </tr>\n",
              "  </thead>\n",
              "  <tbody>\n",
              "    <tr>\n",
              "      <th>0</th>\n",
              "      <td>107.0</td>\n",
              "      <td>371-7191</td>\n",
              "      <td>no</td>\n",
              "      <td>yes</td>\n",
              "      <td>26.0</td>\n",
              "      <td>161.6</td>\n",
              "      <td>123.0</td>\n",
              "      <td>27.47</td>\n",
              "      <td>195.5</td>\n",
              "      <td>103.0</td>\n",
              "      <td>16.62</td>\n",
              "      <td>254.4</td>\n",
              "      <td>103.0</td>\n",
              "      <td>11.45</td>\n",
              "      <td>13.7</td>\n",
              "      <td>3.0</td>\n",
              "      <td>3.70</td>\n",
              "      <td>1.0</td>\n",
              "      <td>FALSE</td>\n",
              "    </tr>\n",
              "    <tr>\n",
              "      <th>1</th>\n",
              "      <td>137.0</td>\n",
              "      <td>358-1921</td>\n",
              "      <td>no</td>\n",
              "      <td>no</td>\n",
              "      <td>0.0</td>\n",
              "      <td>243.4</td>\n",
              "      <td>114.0</td>\n",
              "      <td>41.38</td>\n",
              "      <td>121.2</td>\n",
              "      <td>110.0</td>\n",
              "      <td>10.30</td>\n",
              "      <td>162.6</td>\n",
              "      <td>104.0</td>\n",
              "      <td>7.32</td>\n",
              "      <td>12.2</td>\n",
              "      <td>5.0</td>\n",
              "      <td>3.29</td>\n",
              "      <td>0.0</td>\n",
              "      <td>FALSE</td>\n",
              "    </tr>\n",
              "    <tr>\n",
              "      <th>2</th>\n",
              "      <td>84.0</td>\n",
              "      <td>375-9999</td>\n",
              "      <td>yes</td>\n",
              "      <td>no</td>\n",
              "      <td>0.0</td>\n",
              "      <td>299.4</td>\n",
              "      <td>71.0</td>\n",
              "      <td>50.90</td>\n",
              "      <td>61.9</td>\n",
              "      <td>88.0</td>\n",
              "      <td>5.26</td>\n",
              "      <td>196.9</td>\n",
              "      <td>89.0</td>\n",
              "      <td>8.86</td>\n",
              "      <td>6.6</td>\n",
              "      <td>7.0</td>\n",
              "      <td>1.78</td>\n",
              "      <td>2.0</td>\n",
              "      <td>FALSE</td>\n",
              "    </tr>\n",
              "    <tr>\n",
              "      <th>3</th>\n",
              "      <td>75.0</td>\n",
              "      <td>330-6626</td>\n",
              "      <td>yes</td>\n",
              "      <td>no</td>\n",
              "      <td>0.0</td>\n",
              "      <td>166.7</td>\n",
              "      <td>113.0</td>\n",
              "      <td>28.34</td>\n",
              "      <td>148.3</td>\n",
              "      <td>122.0</td>\n",
              "      <td>12.61</td>\n",
              "      <td>186.9</td>\n",
              "      <td>121.0</td>\n",
              "      <td>8.41</td>\n",
              "      <td>10.1</td>\n",
              "      <td>3.0</td>\n",
              "      <td>2.73</td>\n",
              "      <td>3.0</td>\n",
              "      <td>FALSE</td>\n",
              "    </tr>\n",
              "    <tr>\n",
              "      <th>4</th>\n",
              "      <td>118.0</td>\n",
              "      <td>391-8027</td>\n",
              "      <td>yes</td>\n",
              "      <td>no</td>\n",
              "      <td>0.0</td>\n",
              "      <td>223.4</td>\n",
              "      <td>98.0</td>\n",
              "      <td>37.98</td>\n",
              "      <td>220.6</td>\n",
              "      <td>101.0</td>\n",
              "      <td>18.75</td>\n",
              "      <td>203.9</td>\n",
              "      <td>118.0</td>\n",
              "      <td>9.18</td>\n",
              "      <td>6.3</td>\n",
              "      <td>6.0</td>\n",
              "      <td>1.70</td>\n",
              "      <td>0.0</td>\n",
              "      <td>FALSE</td>\n",
              "    </tr>\n",
              "  </tbody>\n",
              "</table>\n",
              "</div>"
            ],
            "text/plain": [
              "   Account_Length Phone_Number Inter_Plan VoiceMail_Plan  No_of_Vmail_Mesgs  \\\n",
              "0           107.0     371-7191         no            yes               26.0   \n",
              "1           137.0     358-1921         no             no                0.0   \n",
              "2            84.0     375-9999        yes             no                0.0   \n",
              "3            75.0     330-6626        yes             no                0.0   \n",
              "4           118.0     391-8027        yes             no                0.0   \n",
              "\n",
              "   Total_Day_Min  Total_Day_calls  Total_Day_Charge  Total_Evening_Min  \\\n",
              "0          161.6            123.0             27.47              195.5   \n",
              "1          243.4            114.0             41.38              121.2   \n",
              "2          299.4             71.0             50.90               61.9   \n",
              "3          166.7            113.0             28.34              148.3   \n",
              "4          223.4             98.0             37.98              220.6   \n",
              "\n",
              "   Total_Evening_Calls  Total_Evening_Charge  Total_Night_Minutes  \\\n",
              "0                103.0                 16.62                254.4   \n",
              "1                110.0                 10.30                162.6   \n",
              "2                 88.0                  5.26                196.9   \n",
              "3                122.0                 12.61                186.9   \n",
              "4                101.0                 18.75                203.9   \n",
              "\n",
              "   Total_Night_Calls  Total_Night_Charge  Total_Int_Min  Total_Int_Calls  \\\n",
              "0              103.0               11.45           13.7              3.0   \n",
              "1              104.0                7.32           12.2              5.0   \n",
              "2               89.0                8.86            6.6              7.0   \n",
              "3              121.0                8.41           10.1              3.0   \n",
              "4              118.0                9.18            6.3              6.0   \n",
              "\n",
              "   Total_Int_Charge  No_of_Calls_Customer_Service  Churn  \n",
              "0              3.70                           1.0  FALSE  \n",
              "1              3.29                           0.0  FALSE  \n",
              "2              1.78                           2.0  FALSE  \n",
              "3              2.73                           3.0  FALSE  \n",
              "4              1.70                           0.0  FALSE  "
            ]
          },
          "execution_count": 139,
          "metadata": {},
          "output_type": "execute_result"
        }
      ],
      "source": [
        "df = df.apply(lambda col: col.str.strip().str.replace('\"', '', regex=False) if col.dtype == 'object' or pd.api.types.is_string_dtype(col) else col)\n",
        "df.head()"
      ]
    },
    {
      "cell_type": "markdown",
      "id": "b68563c2",
      "metadata": {},
      "source": [
        "Con la funcion map podemos cambiar sus valores"
      ]
    },
    {
      "cell_type": "code",
      "execution_count": 140,
      "id": "5f43127b",
      "metadata": {},
      "outputs": [
        {
          "data": {
            "text/html": [
              "<div>\n",
              "<style scoped>\n",
              "    .dataframe tbody tr th:only-of-type {\n",
              "        vertical-align: middle;\n",
              "    }\n",
              "\n",
              "    .dataframe tbody tr th {\n",
              "        vertical-align: top;\n",
              "    }\n",
              "\n",
              "    .dataframe thead th {\n",
              "        text-align: right;\n",
              "    }\n",
              "</style>\n",
              "<table border=\"1\" class=\"dataframe\">\n",
              "  <thead>\n",
              "    <tr style=\"text-align: right;\">\n",
              "      <th></th>\n",
              "      <th>Account_Length</th>\n",
              "      <th>Phone_Number</th>\n",
              "      <th>Inter_Plan</th>\n",
              "      <th>VoiceMail_Plan</th>\n",
              "      <th>No_of_Vmail_Mesgs</th>\n",
              "      <th>Total_Day_Min</th>\n",
              "      <th>Total_Day_calls</th>\n",
              "      <th>Total_Day_Charge</th>\n",
              "      <th>Total_Evening_Min</th>\n",
              "      <th>Total_Evening_Calls</th>\n",
              "      <th>Total_Evening_Charge</th>\n",
              "      <th>Total_Night_Minutes</th>\n",
              "      <th>Total_Night_Calls</th>\n",
              "      <th>Total_Night_Charge</th>\n",
              "      <th>Total_Int_Min</th>\n",
              "      <th>Total_Int_Calls</th>\n",
              "      <th>Total_Int_Charge</th>\n",
              "      <th>No_of_Calls_Customer_Service</th>\n",
              "      <th>Churn</th>\n",
              "    </tr>\n",
              "  </thead>\n",
              "  <tbody>\n",
              "    <tr>\n",
              "      <th>0</th>\n",
              "      <td>107.0</td>\n",
              "      <td>371-7191</td>\n",
              "      <td>0</td>\n",
              "      <td>1</td>\n",
              "      <td>26.0</td>\n",
              "      <td>161.6</td>\n",
              "      <td>123.0</td>\n",
              "      <td>27.47</td>\n",
              "      <td>195.5</td>\n",
              "      <td>103.0</td>\n",
              "      <td>16.62</td>\n",
              "      <td>254.4</td>\n",
              "      <td>103.0</td>\n",
              "      <td>11.45</td>\n",
              "      <td>13.7</td>\n",
              "      <td>3.0</td>\n",
              "      <td>3.70</td>\n",
              "      <td>1.0</td>\n",
              "      <td>FALSE</td>\n",
              "    </tr>\n",
              "    <tr>\n",
              "      <th>1</th>\n",
              "      <td>137.0</td>\n",
              "      <td>358-1921</td>\n",
              "      <td>0</td>\n",
              "      <td>0</td>\n",
              "      <td>0.0</td>\n",
              "      <td>243.4</td>\n",
              "      <td>114.0</td>\n",
              "      <td>41.38</td>\n",
              "      <td>121.2</td>\n",
              "      <td>110.0</td>\n",
              "      <td>10.30</td>\n",
              "      <td>162.6</td>\n",
              "      <td>104.0</td>\n",
              "      <td>7.32</td>\n",
              "      <td>12.2</td>\n",
              "      <td>5.0</td>\n",
              "      <td>3.29</td>\n",
              "      <td>0.0</td>\n",
              "      <td>FALSE</td>\n",
              "    </tr>\n",
              "    <tr>\n",
              "      <th>2</th>\n",
              "      <td>84.0</td>\n",
              "      <td>375-9999</td>\n",
              "      <td>1</td>\n",
              "      <td>0</td>\n",
              "      <td>0.0</td>\n",
              "      <td>299.4</td>\n",
              "      <td>71.0</td>\n",
              "      <td>50.90</td>\n",
              "      <td>61.9</td>\n",
              "      <td>88.0</td>\n",
              "      <td>5.26</td>\n",
              "      <td>196.9</td>\n",
              "      <td>89.0</td>\n",
              "      <td>8.86</td>\n",
              "      <td>6.6</td>\n",
              "      <td>7.0</td>\n",
              "      <td>1.78</td>\n",
              "      <td>2.0</td>\n",
              "      <td>FALSE</td>\n",
              "    </tr>\n",
              "    <tr>\n",
              "      <th>3</th>\n",
              "      <td>75.0</td>\n",
              "      <td>330-6626</td>\n",
              "      <td>1</td>\n",
              "      <td>0</td>\n",
              "      <td>0.0</td>\n",
              "      <td>166.7</td>\n",
              "      <td>113.0</td>\n",
              "      <td>28.34</td>\n",
              "      <td>148.3</td>\n",
              "      <td>122.0</td>\n",
              "      <td>12.61</td>\n",
              "      <td>186.9</td>\n",
              "      <td>121.0</td>\n",
              "      <td>8.41</td>\n",
              "      <td>10.1</td>\n",
              "      <td>3.0</td>\n",
              "      <td>2.73</td>\n",
              "      <td>3.0</td>\n",
              "      <td>FALSE</td>\n",
              "    </tr>\n",
              "    <tr>\n",
              "      <th>4</th>\n",
              "      <td>118.0</td>\n",
              "      <td>391-8027</td>\n",
              "      <td>1</td>\n",
              "      <td>0</td>\n",
              "      <td>0.0</td>\n",
              "      <td>223.4</td>\n",
              "      <td>98.0</td>\n",
              "      <td>37.98</td>\n",
              "      <td>220.6</td>\n",
              "      <td>101.0</td>\n",
              "      <td>18.75</td>\n",
              "      <td>203.9</td>\n",
              "      <td>118.0</td>\n",
              "      <td>9.18</td>\n",
              "      <td>6.3</td>\n",
              "      <td>6.0</td>\n",
              "      <td>1.70</td>\n",
              "      <td>0.0</td>\n",
              "      <td>FALSE</td>\n",
              "    </tr>\n",
              "  </tbody>\n",
              "</table>\n",
              "</div>"
            ],
            "text/plain": [
              "   Account_Length Phone_Number  Inter_Plan  VoiceMail_Plan  No_of_Vmail_Mesgs  \\\n",
              "0           107.0     371-7191           0               1               26.0   \n",
              "1           137.0     358-1921           0               0                0.0   \n",
              "2            84.0     375-9999           1               0                0.0   \n",
              "3            75.0     330-6626           1               0                0.0   \n",
              "4           118.0     391-8027           1               0                0.0   \n",
              "\n",
              "   Total_Day_Min  Total_Day_calls  Total_Day_Charge  Total_Evening_Min  \\\n",
              "0          161.6            123.0             27.47              195.5   \n",
              "1          243.4            114.0             41.38              121.2   \n",
              "2          299.4             71.0             50.90               61.9   \n",
              "3          166.7            113.0             28.34              148.3   \n",
              "4          223.4             98.0             37.98              220.6   \n",
              "\n",
              "   Total_Evening_Calls  Total_Evening_Charge  Total_Night_Minutes  \\\n",
              "0                103.0                 16.62                254.4   \n",
              "1                110.0                 10.30                162.6   \n",
              "2                 88.0                  5.26                196.9   \n",
              "3                122.0                 12.61                186.9   \n",
              "4                101.0                 18.75                203.9   \n",
              "\n",
              "   Total_Night_Calls  Total_Night_Charge  Total_Int_Min  Total_Int_Calls  \\\n",
              "0              103.0               11.45           13.7              3.0   \n",
              "1              104.0                7.32           12.2              5.0   \n",
              "2               89.0                8.86            6.6              7.0   \n",
              "3              121.0                8.41           10.1              3.0   \n",
              "4              118.0                9.18            6.3              6.0   \n",
              "\n",
              "   Total_Int_Charge  No_of_Calls_Customer_Service  Churn  \n",
              "0              3.70                           1.0  FALSE  \n",
              "1              3.29                           0.0  FALSE  \n",
              "2              1.78                           2.0  FALSE  \n",
              "3              2.73                           3.0  FALSE  \n",
              "4              1.70                           0.0  FALSE  "
            ]
          },
          "execution_count": 140,
          "metadata": {},
          "output_type": "execute_result"
        }
      ],
      "source": [
        "df['VoiceMail_Plan'] = df['VoiceMail_Plan'].map({'yes': 1, 'no': 0})\n",
        "df['Inter_Plan'] = df['Inter_Plan'].map({'yes': 1, 'no': 0})\n",
        "df.head()"
      ]
    },
    {
      "cell_type": "markdown",
      "id": "57d52e29",
      "metadata": {},
      "source": [
        "### Correlación\n",
        "\n",
        "Para evaluar la correlación de Pearson entre las columnas numéricas de un DataFrame se puede usar el método .corr() de pandas, que calcula la matriz de correlación para todas las columnas.\n",
        "\n",
        "Para este ejemplo utilizaremos Matplotlib. Aquí se utilizará matplotlib.pyplot para el análisis de datos. Ya que puede crear histogramas, gráficos de barras, gráficos de error, gráficos de dispersión y así sucesivamente con sólo unas pocas líneas de código."
      ]
    },
    {
      "cell_type": "code",
      "execution_count": 145,
      "id": "123999df",
      "metadata": {},
      "outputs": [
        {
          "data": {
            "image/png": "[encoded data removed]",
            "text/plain": [
              "<Figure size 1000x800 with 2 Axes>"
            ]
          },
          "metadata": {},
          "output_type": "display_data"
        }
      ],
      "source": [
        "import seaborn as sns\n",
        "import matplotlib.pyplot as plt\n",
        "\n",
        "# Matriz de correlación\n",
        "dfcopy = df.drop({\"Phone_Number\",\"Churn\"}, axis=1)\n",
        "correlation_matrix = dfcopy.corr()\n",
        "# Crear un heatmap\n",
        "plt.figure(figsize=(10, 8))\n",
        "sns.heatmap(correlation_matrix, annot=True, cmap='coolwarm', fmt='.2f', linewidths=0.5)\n",
        "plt.show()\n"
      ]
    },
    {
      "cell_type": "code",
      "execution_count": 162,
      "id": "04bedac9",
      "metadata": {},
      "outputs": [
        {
          "data": {
            "image/png": "[encoded data removed]",
            "text/plain": [
              "<Figure size 640x480 with 1 Axes>"
            ]
          },
          "metadata": {},
          "output_type": "display_data"
        }
      ],
      "source": [
        "# Tambien podemos ver rapidamente cual es la distribución de nuestra variable objetivo\n",
        "\n",
        "import seaborn as sns\n",
        "sns.countplot(x='Churn', data=df)\n",
        "plt.title('Distribución de clases')\n",
        "plt.show()"
      ]
    },
    {
      "cell_type": "markdown",
      "id": "ed8bda36",
      "metadata": {},
      "source": [
        "# Scikit-learn para clasificación\n",
        "\n",
        "Scikit-learn es la biblioteca de Python más utilizada para el aprendizaje automático. Es un proyecto de código abierto que está en continuo desarrollo y mejora y es compatible con una amplia gama de importantes algoritmos de aprendizaje automático. Scikit-learn hace uso de otras dos bibliotecas de computación científica de Python llamadas SciPy y NumPy.SciPy es una biblioteca de Python que soporta la manipulación de datos y métodos de análisis que se utilizan comúnmente en la computación científica. Esto incluye soporte para distribuciones estadísticas, optimización de funciones, álgebra lineal y una variedad de funciones matemáticas especializadas. "
      ]
    },
    {
      "cell_type": "code",
      "execution_count": 25,
      "id": "e0beb602",
      "metadata": {},
      "outputs": [
        {
          "data": {
            "text/html": [
              "<div>\n",
              "<style scoped>\n",
              "    .dataframe tbody tr th:only-of-type {\n",
              "        vertical-align: middle;\n",
              "    }\n",
              "\n",
              "    .dataframe tbody tr th {\n",
              "        vertical-align: top;\n",
              "    }\n",
              "\n",
              "    .dataframe thead th {\n",
              "        text-align: right;\n",
              "    }\n",
              "</style>\n",
              "<table border=\"1\" class=\"dataframe\">\n",
              "  <thead>\n",
              "    <tr style=\"text-align: right;\">\n",
              "      <th></th>\n",
              "      <th>Account_Length</th>\n",
              "      <th>Phone_Number</th>\n",
              "      <th>Inter_Plan</th>\n",
              "      <th>VoiceMail_Plan</th>\n",
              "      <th>No_of_Vmail_Mesgs</th>\n",
              "      <th>Total_Day_Min</th>\n",
              "      <th>Total_Day_calls</th>\n",
              "      <th>Total_Day_Charge</th>\n",
              "      <th>Total_Evening_Min</th>\n",
              "      <th>Total_Evening_Calls</th>\n",
              "      <th>Total_Evening_Charge</th>\n",
              "      <th>Total_Night_Minutes</th>\n",
              "      <th>Total_Night_Calls</th>\n",
              "      <th>Total_Night_Charge</th>\n",
              "      <th>Total_Int_Min</th>\n",
              "      <th>Total_Int_Calls</th>\n",
              "      <th>Total_Int_Charge</th>\n",
              "      <th>No_of_Calls_Customer_Service</th>\n",
              "      <th>Churn</th>\n",
              "    </tr>\n",
              "  </thead>\n",
              "  <tbody>\n",
              "    <tr>\n",
              "      <th>0</th>\n",
              "      <td>107.0</td>\n",
              "      <td>371-7191</td>\n",
              "      <td>0</td>\n",
              "      <td>1</td>\n",
              "      <td>26.0</td>\n",
              "      <td>161.6</td>\n",
              "      <td>123.0</td>\n",
              "      <td>27.47</td>\n",
              "      <td>195.5</td>\n",
              "      <td>103.0</td>\n",
              "      <td>16.62</td>\n",
              "      <td>254.4</td>\n",
              "      <td>103.0</td>\n",
              "      <td>11.45</td>\n",
              "      <td>13.7</td>\n",
              "      <td>3.0</td>\n",
              "      <td>3.70</td>\n",
              "      <td>1.0</td>\n",
              "      <td>0</td>\n",
              "    </tr>\n",
              "    <tr>\n",
              "      <th>1</th>\n",
              "      <td>137.0</td>\n",
              "      <td>358-1921</td>\n",
              "      <td>0</td>\n",
              "      <td>0</td>\n",
              "      <td>0.0</td>\n",
              "      <td>243.4</td>\n",
              "      <td>114.0</td>\n",
              "      <td>41.38</td>\n",
              "      <td>121.2</td>\n",
              "      <td>110.0</td>\n",
              "      <td>10.30</td>\n",
              "      <td>162.6</td>\n",
              "      <td>104.0</td>\n",
              "      <td>7.32</td>\n",
              "      <td>12.2</td>\n",
              "      <td>5.0</td>\n",
              "      <td>3.29</td>\n",
              "      <td>0.0</td>\n",
              "      <td>0</td>\n",
              "    </tr>\n",
              "    <tr>\n",
              "      <th>2</th>\n",
              "      <td>84.0</td>\n",
              "      <td>375-9999</td>\n",
              "      <td>1</td>\n",
              "      <td>0</td>\n",
              "      <td>0.0</td>\n",
              "      <td>299.4</td>\n",
              "      <td>71.0</td>\n",
              "      <td>50.90</td>\n",
              "      <td>61.9</td>\n",
              "      <td>88.0</td>\n",
              "      <td>5.26</td>\n",
              "      <td>196.9</td>\n",
              "      <td>89.0</td>\n",
              "      <td>8.86</td>\n",
              "      <td>6.6</td>\n",
              "      <td>7.0</td>\n",
              "      <td>1.78</td>\n",
              "      <td>2.0</td>\n",
              "      <td>0</td>\n",
              "    </tr>\n",
              "    <tr>\n",
              "      <th>3</th>\n",
              "      <td>75.0</td>\n",
              "      <td>330-6626</td>\n",
              "      <td>1</td>\n",
              "      <td>0</td>\n",
              "      <td>0.0</td>\n",
              "      <td>166.7</td>\n",
              "      <td>113.0</td>\n",
              "      <td>28.34</td>\n",
              "      <td>148.3</td>\n",
              "      <td>122.0</td>\n",
              "      <td>12.61</td>\n",
              "      <td>186.9</td>\n",
              "      <td>121.0</td>\n",
              "      <td>8.41</td>\n",
              "      <td>10.1</td>\n",
              "      <td>3.0</td>\n",
              "      <td>2.73</td>\n",
              "      <td>3.0</td>\n",
              "      <td>0</td>\n",
              "    </tr>\n",
              "    <tr>\n",
              "      <th>4</th>\n",
              "      <td>118.0</td>\n",
              "      <td>391-8027</td>\n",
              "      <td>1</td>\n",
              "      <td>0</td>\n",
              "      <td>0.0</td>\n",
              "      <td>223.4</td>\n",
              "      <td>98.0</td>\n",
              "      <td>37.98</td>\n",
              "      <td>220.6</td>\n",
              "      <td>101.0</td>\n",
              "      <td>18.75</td>\n",
              "      <td>203.9</td>\n",
              "      <td>118.0</td>\n",
              "      <td>9.18</td>\n",
              "      <td>6.3</td>\n",
              "      <td>6.0</td>\n",
              "      <td>1.70</td>\n",
              "      <td>0.0</td>\n",
              "      <td>0</td>\n",
              "    </tr>\n",
              "  </tbody>\n",
              "</table>\n",
              "</div>"
            ],
            "text/plain": [
              "   Account_Length Phone_Number  Inter_Plan  VoiceMail_Plan  No_of_Vmail_Mesgs  \\\n",
              "0           107.0     371-7191           0               1               26.0   \n",
              "1           137.0     358-1921           0               0                0.0   \n",
              "2            84.0     375-9999           1               0                0.0   \n",
              "3            75.0     330-6626           1               0                0.0   \n",
              "4           118.0     391-8027           1               0                0.0   \n",
              "\n",
              "   Total_Day_Min  Total_Day_calls  Total_Day_Charge  Total_Evening_Min  \\\n",
              "0          161.6            123.0             27.47              195.5   \n",
              "1          243.4            114.0             41.38              121.2   \n",
              "2          299.4             71.0             50.90               61.9   \n",
              "3          166.7            113.0             28.34              148.3   \n",
              "4          223.4             98.0             37.98              220.6   \n",
              "\n",
              "   Total_Evening_Calls  Total_Evening_Charge  Total_Night_Minutes  \\\n",
              "0                103.0                 16.62                254.4   \n",
              "1                110.0                 10.30                162.6   \n",
              "2                 88.0                  5.26                196.9   \n",
              "3                122.0                 12.61                186.9   \n",
              "4                101.0                 18.75                203.9   \n",
              "\n",
              "   Total_Night_Calls  Total_Night_Charge  Total_Int_Min  Total_Int_Calls  \\\n",
              "0              103.0               11.45           13.7              3.0   \n",
              "1              104.0                7.32           12.2              5.0   \n",
              "2               89.0                8.86            6.6              7.0   \n",
              "3              121.0                8.41           10.1              3.0   \n",
              "4              118.0                9.18            6.3              6.0   \n",
              "\n",
              "   Total_Int_Charge  No_of_Calls_Customer_Service  Churn  \n",
              "0              3.70                           1.0      0  \n",
              "1              3.29                           0.0      0  \n",
              "2              1.78                           2.0      0  \n",
              "3              2.73                           3.0      0  \n",
              "4              1.70                           0.0      0  "
            ]
          },
          "execution_count": 25,
          "metadata": {},
          "output_type": "execute_result"
        }
      ],
      "source": [
        "# Iniciamos importanto las librerias necesarias\n",
        "\n",
        "import pandas as pd\n",
        "import numpy as np\n",
        "import matplotlib.pyplot as plt\n",
        "import seaborn as sns\n",
        "from sklearn.model_selection import train_test_split\n",
        "from sklearn.preprocessing import StandardScaler\n",
        "from sklearn.neighbors import KNeighborsClassifier\n",
        "from sklearn.metrics import classification_report, confusion_matrix\n",
        "from matplotlib import cm\n",
        "\n",
        "\n",
        "df = pd.read_csv('churn.csv', sep=';')\n",
        "df.columns = (\n",
        "    df.columns\n",
        "    .str.strip()                         # Elimina espacios alrededor\n",
        "    .str.replace(' ', '_', regex=False) # Reemplaza espacios por _\n",
        "    .str.replace(r'^_+', '', regex=True)# Elimina _ al inicio\n",
        "    .str.replace('\"', '', regex=False)\n",
        ")\n",
        "df.drop({\"State\",\"Area_Code\"}, axis=1, inplace=True)\n",
        "df = df.apply(lambda col: col.str.strip().str.replace('\"', '', regex=False) if col.dtype == 'object' or pd.api.types.is_string_dtype(col) else col)\n",
        "df['VoiceMail_Plan'] = df['VoiceMail_Plan'].map({'yes': 1, 'no': 0})\n",
        "df['Inter_Plan'] = df['Inter_Plan'].map({'yes': 1, 'no': 0})\n",
        "df['Churn'] = df['Churn'].map({'FALSE': 0, 'TRUE': 1})\n",
        "df.head()"
      ]
    },
    {
      "cell_type": "markdown",
      "id": "55cc239d",
      "metadata": {},
      "source": [
        "Para que nuestros resultados sean replicables vamos a definir una semilla utilizando Numpy"
      ]
    },
    {
      "cell_type": "code",
      "execution_count": 26,
      "id": "f4c5f6e0",
      "metadata": {},
      "outputs": [],
      "source": [
        "np.random.seed(42)"
      ]
    },
    {
      "cell_type": "markdown",
      "id": "5d537656",
      "metadata": {},
      "source": [
        "## Balanceo mediante \"undersampling\"\n",
        "\n",
        "Como nuestra clase está sobrerrepresentada en relación con otra, el modelo puede enfocarse en predecir la clase mayoritaria y tener una alta precisión, pero un mal rendimiento para la clase minoritaria.\n",
        "\n",
        "Para solucionar este problema realizaremos un balanceo con Submuestreo o \"undersampling\", el cual reduce la cantidad de registros de la clase mayoritaria para igualarla con la minoritaria."
      ]
    },
    {
      "cell_type": "code",
      "execution_count": 35,
      "id": "0dc53f1c",
      "metadata": {},
      "outputs": [
        {
          "data": {
            "text/plain": [
              "18354"
            ]
          },
          "execution_count": 35,
          "metadata": {},
          "output_type": "execute_result"
        }
      ],
      "source": [
        "from sklearn.utils import resample\n",
        "\n",
        "# Separar clases\n",
        "df_majority = df[df['Churn'] == 0]\n",
        "df_minority = df[df['Churn'] == 1]\n",
        "\n",
        "# Submuestrear clase mayoritaria\n",
        "df_majority_downsampled = resample(df_majority,\n",
        "                                   replace=False,\n",
        "                                   n_samples=len(df_minority),\n",
        "                                   random_state=42)\n",
        "\n",
        "# Combinar\n",
        "df_balanced = pd.concat([df_majority_downsampled, df_minority])\n",
        "df_balanced.size"
      ]
    },
    {
      "cell_type": "markdown",
      "id": "345d96c0",
      "metadata": {},
      "source": [
        "## División de los Datos en Conjunto de Entrenamiento y Prueba\n",
        "\n",
        "Una vez que se ha realizado el análisis exploratorio de los datos y se han seleccionado las entradas a nuestro modelo, vamos a realizar la división del dataset de entrenamiento y prueba."
      ]
    },
    {
      "cell_type": "markdown",
      "id": "ec0c9317",
      "metadata": {},
      "source": [
        "Vamos a definir una variable \"y\" que varia en función de \"x\""
      ]
    },
    {
      "cell_type": "code",
      "execution_count": 36,
      "id": "36a2c5c0",
      "metadata": {},
      "outputs": [],
      "source": [
        "X = df_balanced[['Inter_Plan', 'VoiceMail_Plan',\n",
        "       'No_of_Vmail_Mesgs', 'Total_Day_Min', 'Total_Day_calls',\n",
        "       'Total_Evening_Min', 'Total_Evening_Calls',\n",
        "       'Total_Int_Min', 'Total_Int_Calls',\n",
        "       'No_of_Calls_Customer_Service']]\n",
        "y = df_balanced['Churn']"
      ]
    },
    {
      "cell_type": "markdown",
      "id": "9fabd7e6",
      "metadata": {},
      "source": [
        "Los resultados de la función de división entrenamiento-prueba se colocan en las cuatro variables que ves a la izquierda. Están marcadas como X_entrenamiento, X_prueba, Y_entrenamiento e Y_prueba. "
      ]
    },
    {
      "cell_type": "code",
      "execution_count": 37,
      "id": "e1491195",
      "metadata": {},
      "outputs": [],
      "source": [
        "# Por defecto se divide 75% / 25% train-test. Para modificarlo usamos el atributo test_size\n",
        "# Se establece el parámetro de estado aleatorio a un valor específico, en este caso 0 para hacer nuestros valores replicables.\n",
        "X_train, X_test, y_train, y_test = train_test_split(X, y, random_state=0)"
      ]
    },
    {
      "cell_type": "markdown",
      "id": "af9660f5",
      "metadata": {},
      "source": [
        "## Escalado de las Características\n",
        "\n",
        "El escalado es útil para algoritmos que dependen de distancias entre puntos (como KNN, SVM)."
      ]
    },
    {
      "cell_type": "code",
      "execution_count": 38,
      "id": "8f67ced4",
      "metadata": {},
      "outputs": [],
      "source": [
        "scaler = StandardScaler()\n",
        "X_train_scaled = scaler.fit_transform(X_train)\n",
        "X_test_scaled = scaler.transform(X_test)"
      ]
    },
    {
      "cell_type": "markdown",
      "id": "d50eae96",
      "metadata": {},
      "source": [
        "## Entrenamiento del Modelo de Clasificación"
      ]
    },
    {
      "cell_type": "markdown",
      "id": "3a8cd49b",
      "metadata": {},
      "source": [
        "Una vez que tenemos nuestra división de entrenamiento-prueba, tenemos que crear una instancia del objeto clasificador, en este caso, un clasificador k-NN. Y luego establecer el número de vecinos a un valor específico para ser utilizado por el clasificador."
      ]
    },
    {
      "cell_type": "code",
      "execution_count": 39,
      "id": "d5e56a40",
      "metadata": {},
      "outputs": [
        {
          "data": {
            "text/html": [
              "<style>#sk-container-id-2 {color: black;}#sk-container-id-2 pre{padding: 0;}#sk-container-id-2 div.sk-toggleable {background-color: white;}#sk-container-id-2 label.sk-toggleable__label {cursor: pointer;display: block;width: 100%;margin-bottom: 0;padding: 0.3em;box-sizing: border-box;text-align: center;}#sk-container-id-2 label.sk-toggleable__label-arrow:before {content: \"▸\";float: left;margin-right: 0.25em;color: #696969;}#sk-container-id-2 label.sk-toggleable__label-arrow:hover:before {color: black;}#sk-container-id-2 div.sk-estimator:hover label.sk-toggleable__label-arrow:before {color: black;}#sk-container-id-2 div.sk-toggleable__content {max-height: 0;max-width: 0;overflow: hidden;text-align: left;background-color: #f0f8ff;}#sk-container-id-2 div.sk-toggleable__content pre {margin: 0.2em;color: black;border-radius: 0.25em;background-color: #f0f8ff;}#sk-container-id-2 input.sk-toggleable__control:checked~div.sk-toggleable__content {max-height: 200px;max-width: 100%;overflow: auto;}#sk-container-id-2 input.sk-toggleable__control:checked~label.sk-toggleable__label-arrow:before {content: \"▾\";}#sk-container-id-2 div.sk-estimator input.sk-toggleable__control:checked~label.sk-toggleable__label {background-color: #d4ebff;}#sk-container-id-2 div.sk-label input.sk-toggleable__control:checked~label.sk-toggleable__label {background-color: #d4ebff;}#sk-container-id-2 input.sk-hidden--visually {border: 0;clip: rect(1px 1px 1px 1px);clip: rect(1px, 1px, 1px, 1px);height: 1px;margin: -1px;overflow: hidden;padding: 0;position: absolute;width: 1px;}#sk-container-id-2 div.sk-estimator {font-family: monospace;background-color: #f0f8ff;border: 1px dotted black;border-radius: 0.25em;box-sizing: border-box;margin-bottom: 0.5em;}#sk-container-id-2 div.sk-estimator:hover {background-color: #d4ebff;}#sk-container-id-2 div.sk-parallel-item::after {content: \"\";width: 100%;border-bottom: 1px solid gray;flex-grow: 1;}#sk-container-id-2 div.sk-label:hover label.sk-toggleable__label {background-color: #d4ebff;}#sk-container-id-2 div.sk-serial::before {content: \"\";position: absolute;border-left: 1px solid gray;box-sizing: border-box;top: 0;bottom: 0;left: 50%;z-index: 0;}#sk-container-id-2 div.sk-serial {display: flex;flex-direction: column;align-items: center;background-color: white;padding-right: 0.2em;padding-left: 0.2em;position: relative;}#sk-container-id-2 div.sk-item {position: relative;z-index: 1;}#sk-container-id-2 div.sk-parallel {display: flex;align-items: stretch;justify-content: center;background-color: white;position: relative;}#sk-container-id-2 div.sk-item::before, #sk-container-id-2 div.sk-parallel-item::before {content: \"\";position: absolute;border-left: 1px solid gray;box-sizing: border-box;top: 0;bottom: 0;left: 50%;z-index: -1;}#sk-container-id-2 div.sk-parallel-item {display: flex;flex-direction: column;z-index: 1;position: relative;background-color: white;}#sk-container-id-2 div.sk-parallel-item:first-child::after {align-self: flex-end;width: 50%;}#sk-container-id-2 div.sk-parallel-item:last-child::after {align-self: flex-start;width: 50%;}#sk-container-id-2 div.sk-parallel-item:only-child::after {width: 0;}#sk-container-id-2 div.sk-dashed-wrapped {border: 1px dashed gray;margin: 0 0.4em 0.5em 0.4em;box-sizing: border-box;padding-bottom: 0.4em;background-color: white;}#sk-container-id-2 div.sk-label label {font-family: monospace;font-weight: bold;display: inline-block;line-height: 1.2em;}#sk-container-id-2 div.sk-label-container {text-align: center;}#sk-container-id-2 div.sk-container {/* jupyter's `normalize.less` sets `[hidden] { display: none; }` but bootstrap.min.css set `[hidden] { display: none !important; }` so we also need the `!important` here to be able to override the default hidden behavior on the sphinx rendered scikit-learn.org. See: https://github.com/scikit-learn/scikit-learn/issues/21755 */display: inline-block !important;position: relative;}#sk-container-id-2 div.sk-text-repr-fallback {display: none;}</style><div id=\"sk-container-id-2\" class=\"sk-top-container\"><div class=\"sk-text-repr-fallback\"><pre>KNeighborsClassifier()</pre><b>In a Jupyter environment, please rerun this cell to show the HTML representation or trust the notebook. <br />On GitHub, the HTML representation is unable to render, please try loading this page with nbviewer.org.</b></div><div class=\"sk-container\" hidden><div class=\"sk-item\"><div class=\"sk-estimator sk-toggleable\"><input class=\"sk-toggleable__control sk-hidden--visually\" id=\"sk-estimator-id-2\" type=\"checkbox\" checked><label for=\"sk-estimator-id-2\" class=\"sk-toggleable__label sk-toggleable__label-arrow\">KNeighborsClassifier</label><div class=\"sk-toggleable__content\"><pre>KNeighborsClassifier()</pre></div></div></div></div></div>"
            ],
            "text/plain": [
              "KNeighborsClassifier()"
            ]
          },
          "execution_count": 39,
          "metadata": {},
          "output_type": "execute_result"
        }
      ],
      "source": [
        "# Crear el clasificador KNN\n",
        "knn = KNeighborsClassifier(n_neighbors=5)\n",
        "\n",
        "# Entrenar el modelo\n",
        "knn.fit(X_train_scaled, y_train)"
      ]
    },
    {
      "cell_type": "markdown",
      "id": "6fc84e49",
      "metadata": {},
      "source": [
        "## Evaluación del modelo"
      ]
    },
    {
      "cell_type": "code",
      "execution_count": 40,
      "id": "99bc1794",
      "metadata": {},
      "outputs": [
        {
          "name": "stdout",
          "output_type": "stream",
          "text": [
            "Precisión del modelo en test: 0.8181818181818182\n",
            "              precision    recall  f1-score   support\n",
            "\n",
            "           0       0.80      0.83      0.82       117\n",
            "           1       0.83      0.81      0.82       125\n",
            "\n",
            "    accuracy                           0.82       242\n",
            "   macro avg       0.82      0.82      0.82       242\n",
            "weighted avg       0.82      0.82      0.82       242\n",
            "\n"
          ]
        },
        {
          "data": {
            "image/png": "[encoded data removed]",
            "text/plain": [
              "<Figure size 640x480 with 2 Axes>"
            ]
          },
          "metadata": {},
          "output_type": "display_data"
        }
      ],
      "source": [
        "print(\"Precisión del modelo en test:\", knn.score(X_test_scaled, y_test))\n",
        "\n",
        "# Predicciones\n",
        "y_pred = knn.predict(X_test_scaled)\n",
        "\n",
        "# Reporte de métricas\n",
        "print(classification_report(y_test, y_pred))\n",
        "\n",
        "\n",
        "# Matriz de confusión\n",
        "cm = confusion_matrix(y_test, y_pred)\n",
        "\n",
        "# Visualización con Seaborn\n",
        "sns.heatmap(cm, annot=True, fmt='d', cmap='Blues')\n",
        "plt.title('Matriz de Confusión - KNN')\n",
        "plt.xlabel('Predicción')\n",
        "plt.ylabel('Real')\n",
        "plt.show()\n"
      ]
    },
    {
      "cell_type": "markdown",
      "id": "5ad17589",
      "metadata": {},
      "source": [
        "Podemos ademas probar distintos valores para k"
      ]
    },
    {
      "cell_type": "code",
      "execution_count": 41,
      "id": "8cfed794",
      "metadata": {},
      "outputs": [
        {
          "data": {
            "image/png": "[encoded data removed]",
            "text/plain": [
              "<Figure size 640x480 with 1 Axes>"
            ]
          },
          "metadata": {},
          "output_type": "display_data"
        }
      ],
      "source": [
        "errors = []\n",
        "for k in range(1, 20):\n",
        "    knn = KNeighborsClassifier(n_neighbors=k)\n",
        "    knn.fit(X_train_scaled, y_train)\n",
        "    y_pred_k = knn.predict(X_test_scaled)\n",
        "    error = np.mean(y_pred_k != y_test)\n",
        "    errors.append(error)\n",
        "\n",
        "plt.plot(range(1, 20), errors, marker='o', alpha=0.7, linewidth=3, linestyle='-')\n",
        "# plt.plot(x, y, color='blue', alpha=0.3, linewidth=3, linestyle='-', marker='o')\n",
        "plt.xticks(ticks=range(1, 21))  # Mostrar números del 1 al 10 en el eje X\n",
        "plt.title('Error de clasificación vs Número de Vecinos (k)')\n",
        "plt.grid(True)\n",
        "plt.xlabel('Número de vecinos (k)')\n",
        "plt.ylabel('Error promedio')\n",
        "plt.show()\n"
      ]
    },
    {
      "cell_type": "markdown",
      "id": "8687f7c4",
      "metadata": {},
      "source": [
        "Podemos probar nuevamente con 2 vecinos (k=2)"
      ]
    },
    {
      "cell_type": "code",
      "execution_count": 110,
      "id": "38c3c201",
      "metadata": {},
      "outputs": [
        {
          "name": "stdout",
          "output_type": "stream",
          "text": [
            "              precision    recall  f1-score   support\n",
            "\n",
            "           0       0.92      0.94      0.93       718\n",
            "           1       0.58      0.48      0.53       116\n",
            "\n",
            "    accuracy                           0.88       834\n",
            "   macro avg       0.75      0.71      0.73       834\n",
            "weighted avg       0.87      0.88      0.87       834\n",
            "\n"
          ]
        },
        {
          "data": {
            "image/png": "[encoded data removed]",
            "text/plain": [
              "<Figure size 640x480 with 2 Axes>"
            ]
          },
          "metadata": {},
          "output_type": "display_data"
        }
      ],
      "source": [
        "# Lectura del data set\n",
        "df = pd.read_csv('churn.csv', sep=';')\n",
        "\n",
        "# Preparación de los datos\n",
        "df.columns = (\n",
        "    df.columns\n",
        "    .str.strip()                         # Elimina espacios alrededor\n",
        "    .str.replace(' ', '_', regex=False) # Reemplaza espacios por _\n",
        "    .str.replace(r'^_+', '', regex=True)# Elimina _ al inicio\n",
        "    .str.replace('\"', '', regex=False)\n",
        ")\n",
        "df.drop({\"State\",\"Area_Code\"}, axis=1, inplace=True)\n",
        "df = df.apply(lambda col: col.str.strip().str.replace('\"', '', regex=False) if col.dtype == 'object' or pd.api.types.is_string_dtype(col) else col)\n",
        "df['VoiceMail_Plan'] = df['VoiceMail_Plan'].map({'yes': 1, 'no': 0})\n",
        "df['Inter_Plan'] = df['Inter_Plan'].map({'yes': 1, 'no': 0})\n",
        "df['Churn'] = df['Churn'].map({'FALSE': 0, 'TRUE': 1})\n",
        "\n",
        "# Separación del data set de entrenamiento y prueba con escalado\n",
        "np.random.seed(42)\n",
        "X = df[['Inter_Plan', 'VoiceMail_Plan',\n",
        "       'No_of_Vmail_Mesgs', 'Total_Day_Min', 'Total_Day_calls',\n",
        "       'Total_Evening_Min', 'Total_Evening_Calls',\n",
        "       'Total_Int_Min', 'Total_Int_Calls',\n",
        "       'No_of_Calls_Customer_Service']]\n",
        "y = df['Churn']\n",
        "X_train, X_test, y_train, y_test = train_test_split(X, y, random_state=0)\n",
        "scaler = StandardScaler()\n",
        "X_train_scaled = scaler.fit_transform(X_train)\n",
        "X_test_scaled = scaler.transform(X_test)\n",
        "\n",
        "# Entrenamiento del modelo\n",
        "knn = KNeighborsClassifier(n_neighbors=1)\n",
        "knn.fit(X_train_scaled, y_train)\n",
        "\n",
        "# Predicciones\n",
        "y_pred = knn.predict(X_test_scaled)\n",
        "\n",
        "# Reporte de métricas\n",
        "print(classification_report(y_test, y_pred))\n",
        "\n",
        "# Matriz de confusión\n",
        "cm = confusion_matrix(y_test, y_pred)\n",
        "\n",
        "# Visualización con Seaborn\n",
        "sns.heatmap(cm, annot=True, fmt='d', cmap='Blues')\n",
        "plt.title('Matriz de Confusión - KNN')\n",
        "plt.xlabel('Predicción')\n",
        "plt.ylabel('Real')\n",
        "plt.show()"
      ]
    },
    {
      "cell_type": "markdown",
      "id": "a57ade86",
      "metadata": {},
      "source": [
        "## Lazy predict\n",
        "\n",
        "LazyPredict es una librería de Python muy útil cuando se quieren probar rápidamente varios modelos de machine learning clásicos y ver cuál funciona mejor con un dataset sin escribir código repetitivo."
      ]
    },
    {
      "cell_type": "code",
      "execution_count": null,
      "id": "232430f4",
      "metadata": {},
      "outputs": [],
      "source": [
        "from lazypredict.Supervised import LazyClassifier\n",
        "\n",
        "# Probar múltiples modelos de clasificación\n",
        "clf = LazyClassifier(verbose=0, ignore_warnings=True, custom_metric=None)\n",
        "models, predictions = clf.fit(X_train_scaled, X_test_scaled, y_train, y_test)\n",
        "# Mostrar los resultados\n",
        "print(models)"
      ]
    }
  ],
  "metadata": {
    "colab": {
      "include_colab_link": true,
      "provenance": []
    },
    "kernelspec": {
      "display_name": "Python 3",
      "language": "python",
      "name": "python3"
    },
    "language_info": {
      "codemirror_mode": {
        "name": "ipython",
        "version": 3
      },
      "file_extension": ".py",
      "mimetype": "text/x-python",
      "name": "python",
      "nbconvert_exporter": "python",
      "pygments_lexer": "ipython3",
      "version": "3.9.6"
    }
  },
  "nbformat": 4,
  "nbformat_minor": 5
}
